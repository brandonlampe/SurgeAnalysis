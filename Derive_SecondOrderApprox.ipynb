{
 "cells": [
  {
   "cell_type": "markdown",
   "metadata": {},
   "source": [
    "Derivation of the characteristic equations using a second order approximation.  This method is based on the method described by Chaudhry on page 71 of \"Applied Hydraulic Transients\" (third edition, 2014)."
   ]
  },
  {
   "cell_type": "markdown",
   "metadata": {},
   "source": [
    "### Load Sympy Modules"
   ]
  },
  {
   "cell_type": "code",
   "execution_count": 1,
   "metadata": {
    "collapsed": false
   },
   "outputs": [],
   "source": [
    "from sympy import *\n",
    "from sympy.matrices import *\n",
    "import sympy.mpmath\n",
    "from sympy.utilities.lambdify import lambdify\n",
    "init_printing()\n",
    "\n",
    "import numpy as np00\n",
    "import scipy.linalg as LA\n",
    "\n",
    "%matplotlib inline\n",
    "import matplotlib.pyplot as plt"
   ]
  },
  {
   "cell_type": "code",
   "execution_count": 13,
   "metadata": {
    "collapsed": false
   },
   "outputs": [],
   "source": [
    "qp, qa, qb, g, A, a, hp, ha, hb, f, dt, theta, d = symbols('Q_p Q_a Q_b g A a H_p H_a H_b f s theta d')"
   ]
  },
  {
   "cell_type": "code",
   "execution_count": 3,
   "metadata": {
    "collapsed": false
   },
   "outputs": [
    {
     "data": {
      "image/png": "[encoded data removed]",
      "text/latex": [
       "$$A g \\sin{\\left (\\theta \\right )}$$"
      ],
      "text/plain": [
       "A⋅g⋅sin(θ)"
      ]
     },
     "execution_count": 3,
     "metadata": {},
     "output_type": "execute_result"
    }
   ],
   "source": [
    "B = g*A*sin(theta);B"
   ]
  },
  {
   "cell_type": "code",
   "execution_count": 4,
   "metadata": {
    "collapsed": false
   },
   "outputs": [
    {
     "data": {
      "image/png": "[encoded data removed]",
      "text/latex": [
       "$$\\frac{f}{2 A d}$$"
      ],
      "text/plain": [
       "  f  \n",
       "─────\n",
       "2⋅A⋅d"
      ]
     },
     "execution_count": 4,
     "metadata": {},
     "output_type": "execute_result"
    }
   ],
   "source": [
    "R = Rational(1,2)*f/(d*A); R"
   ]
  },
  {
   "cell_type": "code",
   "execution_count": 5,
   "metadata": {
    "collapsed": false
   },
   "outputs": [
    {
     "data": {
      "image/png": "[encoded data removed]",
      "text/latex": [
       "$$A g \\sin{\\left (\\theta \\right )} - \\frac{A g}{a} \\left(- H_{b} + H_{p}\\right) - Q_{b} + Q_{p} + \\frac{f s \\left(Q_{b}^{2} + Q_{p}^{2}\\right)}{4 A d}$$"
      ],
      "text/plain": [
       "                                                ⎛   2      2⎞\n",
       "             A⋅g⋅(-H_b + H_p)               f⋅s⋅⎝Q_b  + Q_p ⎠\n",
       "A⋅g⋅sin(θ) - ──────────────── - Q_b + Q_p + ─────────────────\n",
       "                    a                             4⋅A⋅d      "
      ]
     },
     "execution_count": 5,
     "metadata": {},
     "output_type": "execute_result"
    }
   ],
   "source": [
    "eq1 = qp - qb - g*A/a*(hp-hb) + B + Rational(1,2)*R*dt*(qb**2 +qp**2); eq1"
   ]
  },
  {
   "cell_type": "code",
   "execution_count": 6,
   "metadata": {
    "collapsed": false
   },
   "outputs": [
    {
     "data": {
      "image/png": "[encoded data removed]",
      "text/latex": [
       "$$A g \\sin{\\left (\\theta \\right )} + \\frac{A g}{a} \\left(- H_{a} + H_{p}\\right) - Q_{a} + Q_{p} + \\frac{f s \\left(Q_{a}^{2} + Q_{p}^{2}\\right)}{4 A d}$$"
      ],
      "text/plain": [
       "                                              ⎛  2      2⎞\n",
       "             A⋅g⋅(-Hₐ + H_p)              f⋅s⋅⎝Qₐ  + Q_p ⎠\n",
       "A⋅g⋅sin(θ) + ─────────────── - Qₐ + Q_p + ────────────────\n",
       "                    a                          4⋅A⋅d      "
      ]
     },
     "execution_count": 6,
     "metadata": {},
     "output_type": "execute_result"
    }
   ],
   "source": [
    "eq2 = qp - qa + g*A/a*(hp-ha) + B + Rational(1,2)*R*dt*(qa**2 +qp**2); eq2"
   ]
  },
  {
   "cell_type": "code",
   "execution_count": 7,
   "metadata": {
    "collapsed": false
   },
   "outputs": [],
   "source": [
    "sol = solve([eq1,eq2],(qp,hp))\n",
    "q_new = sol[0][0]\n",
    "h_new = sol[0][1]"
   ]
  },
  {
   "cell_type": "markdown",
   "metadata": {},
   "source": [
    "The future flow rate $(Q_p)$"
   ]
  },
  {
   "cell_type": "code",
   "execution_count": 9,
   "metadata": {
    "collapsed": false
   },
   "outputs": [
    {
     "data": {
      "image/png": "[encoded data removed]",
      "text/latex": [
       "$$\\frac{1}{2 a f s} \\left(- 4 A a d + \\sqrt{2} \\sqrt{a \\left(4 A^{2} H_{a} d f g s - 4 A^{2} H_{b} d f g s + 8 A^{2} a d^{2} - 8 A^{2} a d f g s \\sin{\\left (\\theta \\right )} + 4 A Q_{a} a d f s + 4 A Q_{b} a d f s - Q_{a}^{2} a f^{2} s^{2} - Q_{b}^{2} a f^{2} s^{2}\\right)}\\right)$$"
      ],
      "text/plain": [
       "                    __________________________________________________________\n",
       "             ___   ╱   ⎛   2                 2                  2    2      2 \n",
       "-4⋅A⋅a⋅d + ╲╱ 2 ⋅╲╱  a⋅⎝4⋅A ⋅Hₐ⋅d⋅f⋅g⋅s - 4⋅A ⋅H_b⋅d⋅f⋅g⋅s + 8⋅A ⋅a⋅d  - 8⋅A ⋅\n",
       "──────────────────────────────────────────────────────────────────────────────\n",
       "                                                                            2⋅\n",
       "\n",
       "______________________________________________________________________________\n",
       "                                                        2    2  2      2    2 \n",
       "a⋅d⋅f⋅g⋅s⋅sin(θ) + 4⋅A⋅Qₐ⋅a⋅d⋅f⋅s + 4⋅A⋅Q_b⋅a⋅d⋅f⋅s - Qₐ ⋅a⋅f ⋅s  - Q_b ⋅a⋅f ⋅\n",
       "──────────────────────────────────────────────────────────────────────────────\n",
       "a⋅f⋅s                                                                         \n",
       "\n",
       "____\n",
       " 2⎞ \n",
       "s ⎠ \n",
       "────\n",
       "    "
      ]
     },
     "execution_count": 9,
     "metadata": {},
     "output_type": "execute_result"
    }
   ],
   "source": [
    "q_new.simplify()"
   ]
  },
  {
   "cell_type": "markdown",
   "metadata": {},
   "source": [
    "The future head $(H_p)$"
   ]
  },
  {
   "cell_type": "code",
   "execution_count": 10,
   "metadata": {
    "collapsed": false
   },
   "outputs": [
    {
     "data": {
      "image/png": "[encoded data removed]",
      "text/latex": [
       "$$\\frac{1}{8 A^{2} d g} \\left(4 A^{2} d g \\left(H_{a} + H_{b}\\right) + 4 A a d \\left(Q_{a} - Q_{b}\\right) + a f s \\left(- Q_{a}^{2} + Q_{b}^{2}\\right)\\right)$$"
      ],
      "text/plain": [
       "   2                                             ⎛    2      2⎞\n",
       "4⋅A ⋅d⋅g⋅(Hₐ + H_b) + 4⋅A⋅a⋅d⋅(Qₐ - Q_b) + a⋅f⋅s⋅⎝- Qₐ  + Q_b ⎠\n",
       "───────────────────────────────────────────────────────────────\n",
       "                               2                               \n",
       "                            8⋅A ⋅d⋅g                           "
      ]
     },
     "execution_count": 10,
     "metadata": {},
     "output_type": "execute_result"
    }
   ],
   "source": [
    "h_new.simplify()"
   ]
  }
 ],
 "metadata": {
  "kernelspec": {
   "display_name": "Python 2",
   "language": "python",
   "name": "python2"
  },
  "language_info": {
   "codemirror_mode": {
    "name": "ipython",
    "version": 2
   },
   "file_extension": ".py",
   "mimetype": "text/x-python",
   "name": "python",
   "nbconvert_exporter": "python",
   "pygments_lexer": "ipython2",
   "version": "2.7.11"
  }
 },
 "nbformat": 4,
 "nbformat_minor": 0
}
