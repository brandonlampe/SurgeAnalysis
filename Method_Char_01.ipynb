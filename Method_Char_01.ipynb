{
 "cells": [
  {
   "cell_type": "code",
   "execution_count": 1,
   "metadata": {
    "collapsed": true
   },
   "outputs": [],
   "source": [
    "import numpy as np\n",
    "from pint import UnitRegistry\n",
    "import math\n",
    "ureg = UnitRegistry()\n",
    "np.set_printoptions(precision=4)\n",
    "import sys\n",
    "sys.path.append('/Users/Lampe/PyScripts/surgeAnalysis')\n",
    "import SurgeFunc as sf"
   ]
  },
  {
   "cell_type": "code",
   "execution_count": 2,
   "metadata": {
    "collapsed": true
   },
   "outputs": [],
   "source": [
    "%matplotlib inline\n",
    "import matplotlib.pyplot as plt"
   ]
  },
  {
   "cell_type": "markdown",
   "metadata": {},
   "source": [
    "# Calculate Initial Conditions"
   ]
  },
  {
   "cell_type": "code",
   "execution_count": 3,
   "metadata": {
    "collapsed": false
   },
   "outputs": [],
   "source": [
    "#problem Data\n",
    "q = 0.15707963267948968*3600# m3/hr\n",
    "mu = 1.60 * 10**-3 # Pa-s, N-s/m2\n",
    "sg = 1.2 #rho = 1200 # kg/m3\n",
    "d = 219.1 # mm\n",
    "rough = 0.9 # roughness (mm)\n",
    "L = 1000. # conduit lenth (m)\n",
    "z = np.linspace(0., L, 101)\n",
    "\n",
    "\n",
    "h = np.zeros(len(z)) # head (m)\n",
    "p = np.zeros(len(z)) # pressure (Pa)\n",
    "dp = np.zeros(len(z)) # pressure (Pa)\n",
    "\n",
    "p0 = 20 # MPa\n",
    "dp = sf.SS_DeltaH(q, mu, sg, d, rough, z, units=1).Calc().dp\n",
    "p = p0 + dp"
   ]
  },
  {
   "cell_type": "code",
   "execution_count": 4,
   "metadata": {
    "collapsed": false
   },
   "outputs": [
    {
     "data": {
      "image/png": "[encoded data removed]",
      "text/plain": [
       "<matplotlib.figure.Figure at 0x1062cc550>"
      ]
     },
     "metadata": {},
     "output_type": "display_data"
    }
   ],
   "source": [
    "plt.plot(p,z)\n",
    "plt.xlabel('$Pressure (MPa)$')\n",
    "plt.ylabel('$Elevation Above Datum (m)$')\n",
    "plt.grid()"
   ]
  },
  {
   "cell_type": "code",
   "execution_count": null,
   "metadata": {
    "collapsed": true
   },
   "outputs": [],
   "source": []
  }
 ],
 "metadata": {
  "kernelspec": {
   "display_name": "Python 2",
   "language": "python",
   "name": "python2"
  },
  "language_info": {
   "codemirror_mode": {
    "name": "ipython",
    "version": 2
   },
   "file_extension": ".py",
   "mimetype": "text/x-python",
   "name": "python",
   "nbconvert_exporter": "python",
   "pygments_lexer": "ipython2",
   "version": "2.7.11"
  }
 },
 "nbformat": 4,
 "nbformat_minor": 0
}
