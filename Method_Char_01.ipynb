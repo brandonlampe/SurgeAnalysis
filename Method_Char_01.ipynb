{
 "cells": [
  {
   "cell_type": "code",
   "execution_count": 1,
   "metadata": {
    "collapsed": true
   },
   "outputs": [],
   "source": [
    "import numpy as np\n",
    "from pint import UnitRegistry\n",
    "import math\n",
    "ureg = UnitRegistry()\n",
    "np.set_printoptions(precision=4)\n",
    "import sys\n",
    "sys.path.append('/Users/Lampe/PyScripts/surgeAnalysis')\n",
    "import SurgeFunc as sf"
   ]
  },
  {
   "cell_type": "code",
   "execution_count": 2,
   "metadata": {
    "collapsed": true
   },
   "outputs": [],
   "source": [
    "%matplotlib inline\n",
    "import matplotlib.pyplot as plt"
   ]
  },
  {
   "cell_type": "markdown",
   "metadata": {},
   "source": [
    "### Problem Data"
   ]
  },
  {
   "cell_type": "code",
   "execution_count": 6,
   "metadata": {
    "collapsed": true
   },
   "outputs": [],
   "source": [
    "# numerical parameters\n",
    "nel = int(4) # number of elements\n",
    "tf = 10.0 # total calculation tim (sec)\n",
    "\n",
    "#problem Data\n",
    "Tc = 7. # time for total valve closure (sec)\n",
    "degTheta = 90.0 # horizontal well\n",
    "p0 = 0.6638662 # reservoir pressure (MPa)\n",
    "q0 = 1.0*3600 # SS flow rate (m3/hr)\n",
    "\n",
    "mu = np.array([1.60 * 10**-3,1.60 * 10**-3]) # Dynamic viscosity (Pa-s, N-s/m2)\n",
    "sg = np.array([1.0, 1.0]) # specific gravity\n",
    "rough = np.array([0.9, 0.9]) # roughness (mm)\n",
    "d = np.array([750., 600.]) # mm\n",
    "a = np.array([1100., 900.]) # speed of sound in fluid (m/s)\n",
    "L = np.array([550., 450.]) # length of each conduit reach (m)"
   ]
  },
  {
   "cell_type": "markdown",
   "metadata": {},
   "source": [
    "### Calculated Constants"
   ]
  },
  {
   "cell_type": "code",
   "execution_count": 7,
   "metadata": {
    "collapsed": false
   },
   "outputs": [
    {
     "data": {
      "text/plain": [
       "array([ 1.    ,  0.9942,  0.9785,  0.9545,  0.9236,  0.8874,  0.8473,\n",
       "        0.8044,  0.7599,  0.7149,  0.6705,  0.6271,  0.5843,  0.5421,\n",
       "        0.5   ,  0.4579,  0.4157,  0.3729,  0.3295,  0.2851,  0.2401,\n",
       "        0.1956,  0.1527,  0.1126,  0.0764,  0.0455,  0.0215,  0.0058,\n",
       "        0.    ,  0.    ,  0.    ,  0.    ,  0.    ,  0.    ,  0.    ,\n",
       "        0.    ,  0.    ,  0.    ,  0.    ,  0.    ,  0.    ])"
      ]
     },
     "execution_count": 7,
     "metadata": {},
     "output_type": "execute_result"
    }
   ],
   "source": [
    "nnode = nel + 1 # number of nodes\n",
    "x = np.linspace(0., sum(L), nnode) # spatial discretization\n",
    "nrlp = np.sum(x[:]>=L[-1])# number of reachs in last segment\n",
    "\n",
    "# dx = sum(L)/nel\n",
    "x = np.array([0,550,1000]) #forced spatial discretization\n",
    "s = L[-1]/(2*a[-1])#dx / max(a); # time step size (s)\n",
    "t = np.linspace(0, tf, tf/s + 1) # time discretization\n",
    "tau = sf.valvePercOpen(t, Tc)"
   ]
  },
  {
   "cell_type": "markdown",
   "metadata": {},
   "source": [
    "### Fluid / Conduit specific values"
   ]
  },
  {
   "cell_type": "code",
   "execution_count": 10,
   "metadata": {
    "collapsed": false
   },
   "outputs": [],
   "source": [
    "A = np.pi * (d / 1000.)**2 / 4. # area of flow (m2)\n",
    "ani = L / (s*a)\n",
    "g = 9.806 # m/s2\n",
    "rho = sg * 1000 # kg/m3\n",
    "\n",
    "f = np.zeros(len(d))\n",
    "ca = np.zeros(len(d))\n",
    "cf = np.zeros(len(d))\n",
    "for i in xrange(len(d)):\n",
    "#     f[i] = sf.SS_DeltaH(q0, mu[i], sg[i], d[i], rough[i], x, degTheta, units=1).Calc().f # friction factor \n",
    "    f[0] = 0.01\n",
    "    f[1] = 0.012\n",
    "    ca[i] = g * A[i] / a[i] # m2/sec\n",
    "    cf[i] = s * f[i]/(2*(d[i]/1000.)*A[i]) #assumed constant (sec/m3)"
   ]
  },
  {
   "cell_type": "markdown",
   "metadata": {},
   "source": [
    "### Create Empty Arrays"
   ]
  },
  {
   "cell_type": "code",
   "execution_count": null,
   "metadata": {
    "collapsed": true
   },
   "outputs": [],
   "source": [
    "# rows-> spatial disc; column -> temporal disc\n",
    "h = np.zeros(len(x)) # SS head (m)\n",
    "q = np.zeros(len(x)) # SS flow rate (m3/hr)\n",
    "qp = np.zeros((len(x), len(t))) # Transient flow rate along the positive characteristic (m3/hr)\n",
    "hp = np.zeros((len(x), len(t))) # Transient head along the positive characteristic (m3/hr)\n",
    "p = np.zeros((len(x), len(t))) # pressure (MPa)"
   ]
  },
  {
   "cell_type": "markdown",
   "metadata": {},
   "source": [
    "### Steady State Calc"
   ]
  },
  {
   "cell_type": "code",
   "execution_count": 12,
   "metadata": {
    "collapsed": false
   },
   "outputs": [
    {
     "ename": "ValueError",
     "evalue": "The truth value of an array with more than one element is ambiguous. Use a.any() or a.all()",
     "output_type": "error",
     "traceback": [
      "\u001b[0;31m---------------------------------------------------------------------------\u001b[0m",
      "\u001b[0;31mValueError\u001b[0m                                Traceback (most recent call last)",
      "\u001b[0;32m<ipython-input-12-fea77d63147a>\u001b[0m in \u001b[0;36m<module>\u001b[0;34m()\u001b[0m\n\u001b[1;32m      1\u001b[0m \u001b[0mq\u001b[0m \u001b[0;34m=\u001b[0m \u001b[0mq0\u001b[0m \u001b[0;34m/\u001b[0m \u001b[0;36m3600.\u001b[0m \u001b[0;31m# steady flow (m3/sec)\u001b[0m\u001b[0;34m\u001b[0m\u001b[0m\n\u001b[0;32m----> 2\u001b[0;31m \u001b[0mh\u001b[0m \u001b[0;34m=\u001b[0m \u001b[0;34m(\u001b[0m\u001b[0mp0\u001b[0m\u001b[0;34m*\u001b[0m\u001b[0;36m10\u001b[0m\u001b[0;34m**\u001b[0m\u001b[0;36m6\u001b[0m\u001b[0;34m)\u001b[0m\u001b[0;34m/\u001b[0m\u001b[0;34m(\u001b[0m\u001b[0mrho\u001b[0m\u001b[0;34m*\u001b[0m\u001b[0mg\u001b[0m\u001b[0;34m)\u001b[0m \u001b[0;34m+\u001b[0m \u001b[0msf\u001b[0m\u001b[0;34m.\u001b[0m\u001b[0mSS_DeltaH\u001b[0m\u001b[0;34m(\u001b[0m\u001b[0mq0\u001b[0m\u001b[0;34m,\u001b[0m \u001b[0mmu\u001b[0m\u001b[0;34m,\u001b[0m \u001b[0msg\u001b[0m\u001b[0;34m,\u001b[0m \u001b[0md\u001b[0m\u001b[0;34m,\u001b[0m \u001b[0mrough\u001b[0m\u001b[0;34m,\u001b[0m \u001b[0mx\u001b[0m\u001b[0;34m,\u001b[0m \u001b[0munits\u001b[0m\u001b[0;34m=\u001b[0m\u001b[0;36m1\u001b[0m\u001b[0;34m)\u001b[0m\u001b[0;34m.\u001b[0m\u001b[0mCalc\u001b[0m\u001b[0;34m(\u001b[0m\u001b[0;34m)\u001b[0m\u001b[0;34m.\u001b[0m\u001b[0mdh\u001b[0m \u001b[0;31m# head (m)\u001b[0m\u001b[0;34m\u001b[0m\u001b[0m\n\u001b[0m",
      "\u001b[0;32m/Users/Lampe/PyScripts/surgeAnalysis/SurgeFunc.pyc\u001b[0m in \u001b[0;36mCalc\u001b[0;34m(self)\u001b[0m\n\u001b[1;32m    175\u001b[0m         \u001b[0mself\u001b[0m\u001b[0;34m.\u001b[0m\u001b[0mConvertIn\u001b[0m\u001b[0;34m(\u001b[0m\u001b[0;34m)\u001b[0m\u001b[0;34m\u001b[0m\u001b[0m\n\u001b[1;32m    176\u001b[0m         \u001b[0mself\u001b[0m\u001b[0;34m.\u001b[0m\u001b[0mRe\u001b[0m\u001b[0;34m(\u001b[0m\u001b[0;34m)\u001b[0m\u001b[0;34m\u001b[0m\u001b[0m\n\u001b[0;32m--> 177\u001b[0;31m         \u001b[0mself\u001b[0m\u001b[0;34m.\u001b[0m\u001b[0mFricFact\u001b[0m\u001b[0;34m(\u001b[0m\u001b[0;34m)\u001b[0m\u001b[0;34m\u001b[0m\u001b[0m\n\u001b[0m\u001b[1;32m    178\u001b[0m         \u001b[0mself\u001b[0m\u001b[0;34m.\u001b[0m\u001b[0mHeadLoss\u001b[0m\u001b[0;34m(\u001b[0m\u001b[0;34m)\u001b[0m\u001b[0;34m\u001b[0m\u001b[0m\n\u001b[1;32m    179\u001b[0m         \u001b[0mself\u001b[0m\u001b[0;34m.\u001b[0m\u001b[0mConvertOut\u001b[0m\u001b[0;34m(\u001b[0m\u001b[0;34m)\u001b[0m\u001b[0;34m\u001b[0m\u001b[0m\n",
      "\u001b[0;32m/Users/Lampe/PyScripts/surgeAnalysis/SurgeFunc.pyc\u001b[0m in \u001b[0;36mFricFact\u001b[0;34m(self)\u001b[0m\n\u001b[1;32m    112\u001b[0m         \u001b[0mf\u001b[0m\u001b[0;34m:\u001b[0m \u001b[0mdarcy\u001b[0m\u001b[0;34m-\u001b[0m\u001b[0mweisbach\u001b[0m \u001b[0mfriction\u001b[0m \u001b[0mfactor\u001b[0m \u001b[0;34m(\u001b[0m\u001b[0mdimensionless\u001b[0m\u001b[0;34m)\u001b[0m\u001b[0;34m\u001b[0m\u001b[0m\n\u001b[1;32m    113\u001b[0m         \"\"\"\n\u001b[0;32m--> 114\u001b[0;31m         \u001b[0;32mif\u001b[0m \u001b[0mself\u001b[0m\u001b[0;34m.\u001b[0m\u001b[0mRe\u001b[0m \u001b[0;34m<=\u001b[0m \u001b[0;36m2000.\u001b[0m\u001b[0;34m:\u001b[0m\u001b[0;34m\u001b[0m\u001b[0m\n\u001b[0m\u001b[1;32m    115\u001b[0m             \u001b[0mf\u001b[0m \u001b[0;34m=\u001b[0m \u001b[0mself\u001b[0m\u001b[0;34m.\u001b[0m\u001b[0mRe\u001b[0m \u001b[0;34m/\u001b[0m \u001b[0;36m64.\u001b[0m\u001b[0;34m\u001b[0m\u001b[0m\n\u001b[1;32m    116\u001b[0m         \u001b[0;32melse\u001b[0m\u001b[0;34m:\u001b[0m\u001b[0;34m\u001b[0m\u001b[0m\n",
      "\u001b[0;31mValueError\u001b[0m: The truth value of an array with more than one element is ambiguous. Use a.any() or a.all()"
     ]
    }
   ],
   "source": [
    "q = q0 / 3600. # steady flow (m3/sec)\n",
    "h[0,0] = 67.7 # m\n",
    "\n",
    "\n",
    "# h = (p0*10**6)/(rho*g) + sf.SS_DeltaH(q0, mu, sg, d, rough, x, units=1).Calc().dh # head (m)"
   ]
  },
  {
   "cell_type": "code",
   "execution_count": 7,
   "metadata": {
    "collapsed": false
   },
   "outputs": [
    {
     "data": {
      "text/plain": [
       "array([ 1,  2,  3,  4,  5,  6,  7,  8,  9, 10])"
      ]
     },
     "execution_count": 7,
     "metadata": {},
     "output_type": "execute_result"
    }
   ],
   "source": [
    "# currently assumed constant - will not be constant for different fluids\n",
    "\n",
    "\n",
    "# upstream reservoir\n",
    "cn = q[0,1] - h[0,1]*ca - cf * q[0,1] * np.abs(q[0,1]) # negative characteristic (m3)\n",
    "qp[0,0] = cn + ca*h[0,0]\n",
    "\n",
    "# interior nodes\n",
    "i_arr = np.arange(0,len(x),1) # spatial index\n",
    "j_arr = np.arange(1,len(t),1) # time index\n",
    "for i in i_arr:\n",
    "    for j in j_arr:\n",
    "        jp1 = j + 1\n",
    "        jm1 = j - 1\n",
    "        cn = q[i, jp1] - h[i,jp1]*ca"
   ]
  }
 ],
 "metadata": {
  "kernelspec": {
   "display_name": "Python 2",
   "language": "python",
   "name": "python2"
  },
  "language_info": {
   "codemirror_mode": {
    "name": "ipython",
    "version": 2
   },
   "file_extension": ".py",
   "mimetype": "text/x-python",
   "name": "python",
   "nbconvert_exporter": "python",
   "pygments_lexer": "ipython2",
   "version": "2.7.11"
  }
 },
 "nbformat": 4,
 "nbformat_minor": 0
}
