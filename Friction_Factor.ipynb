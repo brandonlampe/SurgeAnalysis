{
 "cells": [
  {
   "cell_type": "markdown",
   "metadata": {},
   "source": [
    "# Darcy-Weisbach Equation\n",
    "The Darcy-Weisbach equation relates the head or pressure loss, resulting from friction along a length of conduit, to the average velocity of an incompressible fluid flow.  This equation is typically not suitable for gas flow.\n",
    "\n",
    "## Head Loss Form\n",
    "$$h_f = f_D \\cdot \\frac{L}{D_h} \\cdot \\frac{V^2}{2g}$$\n",
    "where;\n",
    "\n",
    "* $h_f$ is the head loss due to friction (SI units: m); Note: This is also proportional to the piezometric head along the pipe;\n",
    "* $L$ is the length of the pipe (m);\n",
    "* $D_h$ is the hydraulic diameter of the pipe (for a pipe of circular section, this equals the internal diameter of the pipe) (m);\n",
    "* $V$ is the average flow velocity, experimentally measured as the volumetric flow rate per unit cross-sectional wetted area (m/s);\n",
    "* $g$ is the local acceleration due to gravity $(m/s^2)$;\n",
    "* $f_D$ is a dimensionless parameter called the Darcy friction factor, resistance coefficient, or simply friction factor.[3]\n",
    "\n",
    "The Darcy friction factor $(f_D)$ can be found from a Moody diagram or it can be calculated (see below).\n",
    "\n",
    "## Pressure Loss Form\n",
    "$$\\Delta p = \\rho \\cdot g \\cdot h_f$$\n",
    "where the pressure loss due to friction $Δp$ (Pa) is a function of:\n",
    "\n",
    "* the ratio of the length to diameter of the pipe, $L / D$;\n",
    "* the density of the fluid, $ρ$ (kg/m3);\n",
    "* the mean flow velocity, $V$ (m/s), as defined above;\n",
    "* Darcy Friction Factor, $f_D$, as defined above;"
   ]
  },
  {
   "cell_type": "markdown",
   "metadata": {},
   "source": [
    "# Calculation of Friction Factor $(f_D)$\n",
    "\n",
    "Calculation method for the friction factor depends on the flow regime as defined by the Reynolds number $(R_e)$\n",
    "\n",
    "\\begin{align}\n",
    "    \\mathrm{Re} &= \\frac{\\rho}{\\mu} V D = \\frac{VD}{\\nu} \\\\\n",
    "    \\nu &= \\frac{\\mu}{\\rho}\n",
    "\\end{align}\n",
    "\n",
    "where;\n",
    "* $\\mu$ is the dynamic viscosity, implies a linear relationshipe between distance from fluid velocity at the wall $(u)$ and distance from the wall $(y)$: $\\mu = \\frac{\\partial u}{\\partial y}$.  Dynamic viscosity has units of pascal-seconds (Pa-s) or centipoise (cP).\n",
    "* $\\nu$ is the kinematic viscosity, which has units of $m^2/s$ or stokes \n",
    "\n",
    "## Flow Regimes\n",
    "\n",
    "For this analysis, I will segregate the flow regimes as follows:\n",
    "\n",
    "* $R_e < 2,000 \\implies$ Laminar regime\n",
    "* $2,000 < R_e \\implies$ Turbulent regime\n",
    "\n",
    "Note: for $2,000 < R_e < 3,000 $ is typically referred to as a Critical regime, which is not defined  with this approach.\n",
    "\n",
    "## Formulas\n",
    "\n",
    "### Laminar Flow\n",
    "Equation for flow in the laminar regime (as defined above) as defined by Poiseuille's law for laminar flow is:\n",
    "$$f_D = \\frac{64}{R_e}$$\n",
    "\n",
    "### Turbulent Flow\n",
    "Equation for flow in the turbulent regime (as defined above) as defined by the Coleboork-White equation is:\n",
    "$$\\frac{1}{\\sqrt{f_D}} = -2.00 \\log_{10}\\left(\\frac{\\epsilon}{3.7D_h} + \\frac{2.51}{\\mathrm{Re}\\sqrt{f_D}}\\right)$$"
   ]
  },
  {
   "cell_type": "markdown",
   "metadata": {},
   "source": [
    "# Calculations"
   ]
  },
  {
   "cell_type": "markdown",
   "metadata": {},
   "source": [
    "load and defined needed packages"
   ]
  },
  {
   "cell_type": "code",
   "execution_count": 1,
   "metadata": {
    "collapsed": true
   },
   "outputs": [],
   "source": [
    "import numpy as np\n",
    "from pint import UnitRegistry\n",
    "import math\n",
    "ureg = UnitRegistry()\n",
    "np.set_printoptions(precision=4)"
   ]
  },
  {
   "cell_type": "markdown",
   "metadata": {},
   "source": [
    "## Check Units"
   ]
  },
  {
   "cell_type": "markdown",
   "metadata": {},
   "source": [
    "calculation of Reynolds number"
   ]
  },
  {
   "cell_type": "code",
   "execution_count": 2,
   "metadata": {
    "collapsed": false
   },
   "outputs": [
    {
     "name": "stdout",
     "output_type": "stream",
     "text": [
      "dimensionless\n",
      "898876.404494\n"
     ]
    }
   ],
   "source": [
    "rho = 1000 * ureg.kilogram / ureg.meter**3# kg/m3\n",
    "v = 4.0 *ureg.meter / ureg.sec# m/sec\n",
    "mu = 8.90 * 10**-4 * ureg.pascal * ureg.sec# Pa-s, N-s/m2\n",
    "d = 0.2 * ureg.meter\n",
    "\n",
    "Re = rho * v * d / mu\n",
    "print(Re.dimensionality) # check dimension\n",
    "print(Re.magnitude)"
   ]
  },
  {
   "cell_type": "markdown",
   "metadata": {},
   "source": [
    "## Function for the Evaluation of the Darcy-Weisbach Friction Factor"
   ]
  },
  {
   "cell_type": "code",
   "execution_count": 77,
   "metadata": {
    "collapsed": false
   },
   "outputs": [],
   "source": [
    "def f_cw(Re, d, epsilon):\n",
    "    \"\"\"\n",
    "    Function to obtain the Darcy-Weisbach friction factor:\n",
    "        Laminar Flow (Re <= 2000) -> Poiseuille's relationship\n",
    "        Turbulent Flow (Re > 2000) -> evaluate the colebrrok-white equation \n",
    "\n",
    "    Input:\n",
    "    -------------------------------------------------\n",
    "    Re (required): reynolds number (dimensionless)\n",
    "    d  (required): hydraulic diameter (length)\n",
    "    epsilon (required): conduit roughness (length)\n",
    "    \n",
    "    Output:\n",
    "    -------------------------------------------------\n",
    "    f: darcy-weisbach friction factor (dimensionless)\n",
    "    \"\"\"\n",
    "\n",
    "\n",
    "    if Re <= 2000.:\n",
    "        f = Re / 64.\n",
    "    else:\n",
    "        sqrt_f = 10.0\n",
    "        loop_max = 20\n",
    "        inc = 1\n",
    "        res = 10.0\n",
    "\n",
    "        while res > 10**-8 and inc < loop_max:\n",
    "            LHS = -2.0 * np.log10(epsilon / (3.7 * d) + 2.51 / (Re * sqrt_f))\n",
    "            res = (LHS - 1./sqrt_f)**2 #squared error\n",
    "            sqrt_f = 1./LHS\n",
    "            inc = inc + 1\n",
    "        f = sqrt_f**2\n",
    "\n",
    "        if inc == loop_max:\n",
    "            print(\"Friction Factor Did Not Converge!\")\n",
    "            print(\"Value Should = unity:\")\n",
    "            print(-2.0 * np.log(epsilon / (3.7 * d) + 2.51 / (Re * f**0.5)) * f**0.5)\n",
    "    f_out = f\n",
    "    return f_out"
   ]
  },
  {
   "cell_type": "markdown",
   "metadata": {},
   "source": [
    "## Example"
   ]
  },
  {
   "cell_type": "markdown",
   "metadata": {},
   "source": [
    "Calculate the head loss from friction over a range of flow rates"
   ]
  },
  {
   "cell_type": "code",
   "execution_count": 83,
   "metadata": {
    "collapsed": false
   },
   "outputs": [],
   "source": [
    "rho = 1200 # kg/m3\n",
    "v = np.linspace(0., 5., 101) # m/sec\n",
    "mu = 8.90 * 10**-4 # Pa-s, N-s/m2\n",
    "d = 0.2 # m\n",
    "epsilon = 0.005 # roughness\n",
    "l = 1000. # conduit lenth (m)\n",
    "g = 9.81 #m/s2\n",
    "\n",
    "fric_fact = np.zeros(len(v))\n",
    "\n",
    "for i in xrange(len(v)):\n",
    "    Re = rho * v[i] * d / mu\n",
    "    fric_fact[i]= f_cw(Re, d, epsilon)\n",
    "    \n",
    "h_f = fric_fact*(l/d)*(v**2/2*g)\n",
    "dp = rho * g * h_f"
   ]
  },
  {
   "cell_type": "code",
   "execution_count": 84,
   "metadata": {
    "collapsed": true
   },
   "outputs": [],
   "source": [
    "%matplotlib inline\n",
    "import matplotlib.pyplot as plt"
   ]
  },
  {
   "cell_type": "code",
   "execution_count": 85,
   "metadata": {
    "collapsed": false
   },
   "outputs": [
    {
     "data": {
      "image/png": "[encoded data removed]",
      "text/plain": [
       "<matplotlib.figure.Figure at 0x10689bb10>"
      ]
     },
     "metadata": {},
     "output_type": "display_data"
    }
   ],
   "source": [
    "plt.plot(v,fric_fact)\n",
    "\n",
    "plt.xlabel('$velocity$')\n",
    "plt.ylabel('$f$')\n",
    "plt.grid()"
   ]
  },
  {
   "cell_type": "code",
   "execution_count": 88,
   "metadata": {
    "collapsed": false
   },
   "outputs": [
    {
     "data": {
      "image/png": "[encoded data removed]",
      "text/plain": [
       "<matplotlib.figure.Figure at 0x108f3e590>"
      ]
     },
     "metadata": {},
     "output_type": "display_data"
    }
   ],
   "source": [
    "plt.plot(v,h_f)\n",
    "\n",
    "plt.xlabel('$velocity$')\n",
    "plt.ylabel('Head Loss From Friction')\n",
    "plt.grid()"
   ]
  },
  {
   "cell_type": "code",
   "execution_count": null,
   "metadata": {
    "collapsed": true
   },
   "outputs": [],
   "source": []
  }
 ],
 "metadata": {
  "kernelspec": {
   "display_name": "Python 2",
   "language": "python",
   "name": "python2"
  },
  "language_info": {
   "codemirror_mode": {
    "name": "ipython",
    "version": 2
   },
   "file_extension": ".py",
   "mimetype": "text/x-python",
   "name": "python",
   "nbconvert_exporter": "python",
   "pygments_lexer": "ipython2",
   "version": "2.7.11"
  }
 },
 "nbformat": 4,
 "nbformat_minor": 0
}
