{
 "cells": [
  {
   "cell_type": "markdown",
   "metadata": {},
   "source": [
    "# Basic Waterhammer Equations\n",
    " This notebook contains basic expressions for the velocity of pressure waves in a conduit and for the change in pressure cuased by an instantaneous change in the flow velocity"
   ]
  },
  {
   "cell_type": "markdown",
   "metadata": {},
   "source": [
    "## Example\n",
    "compute:\n",
    "    1. velocity of pressure waves\n",
    "    2. Rise in pressure for a steady flow\n",
    "    \n",
    "assumptions:\n",
    " - conduit conveying fluid is perfectly rigid\n",
    " - flow is instantaneously stopped downstream"
   ]
  },
  {
   "cell_type": "code",
   "execution_count": 10,
   "metadata": {
    "collapsed": true
   },
   "outputs": [],
   "source": [
    "import numpy as np\n",
    "from pint import UnitRegistry\n",
    "import math\n",
    "ureg = UnitRegistry()\n",
    "np.set_printoptions(precision=4)"
   ]
  },
  {
   "cell_type": "markdown",
   "metadata": {},
   "source": [
    "Define the basic parameters of the problem"
   ]
  },
  {
   "cell_type": "code",
   "execution_count": 26,
   "metadata": {
    "collapsed": true
   },
   "outputs": [],
   "source": [
    "ID = 0.5 * ureg.meter # meter\n",
    "rho = 900 * ureg.kilogram / ureg.m**3# kg/m3\n",
    "K = 1.5 * ureg.gigapascal # GPa -> bulk modulus of fluid\n",
    "q0 = 0.4 * ureg.meter**3 / ureg.sec # flow rate\n",
    "g = 9.81 * ureg.meter / ureg.sec**2 # gravitational acceleration"
   ]
  },
  {
   "cell_type": "markdown",
   "metadata": {},
   "source": [
    "The pressure wave velocity $(a)$ in a fluid is given by:\n",
    "$$a = \\sqrt{\\frac{K}{\\rho}}$$"
   ]
  },
  {
   "cell_type": "code",
   "execution_count": 27,
   "metadata": {
    "collapsed": false
   },
   "outputs": [
    {
     "data": {
      "text/html": [
       "1290.99444874 meter/second"
      ],
      "text/latex": [
       "$1290.99444874 \\frac{meter}{second}$"
      ],
      "text/plain": [
       "<Quantity(1290.99444874, 'meter / second')>"
      ]
     },
     "execution_count": 27,
     "metadata": {},
     "output_type": "execute_result"
    }
   ],
   "source": [
    "a = (K/rho)**0.5; a.to(ureg.meter / ureg.sec)"
   ]
  },
  {
   "cell_type": "markdown",
   "metadata": {},
   "source": [
    "This result shows the velocity of the pressure wave (celerity). \n",
    "\n",
    "The change in pressure head is given by:\n",
    "$$\\Delta H = -\\frac{a}{g}\\Delta V$$\n",
    "\n",
    "Change in velocity $(\\Delta V)$ is the final velocity of fluid $(v_f)$ minus the intitial fluid velocity $(v_0)$.  Because the valve is assumed to close instantly, $v_f = 0$."
   ]
  },
  {
   "cell_type": "code",
   "execution_count": 31,
   "metadata": {
    "collapsed": false
   },
   "outputs": [
    {
     "data": {
      "text/html": [
       "268.092996398 meter"
      ],
      "text/latex": [
       "$268.092996398 meter$"
      ],
      "text/plain": [
       "<Quantity(268.092996398, 'meter')>"
      ]
     },
     "execution_count": 31,
     "metadata": {},
     "output_type": "execute_result"
    }
   ],
   "source": [
    "A = np.pi / 4. * ID**2 # x-sect area of conduit\n",
    "v0 = q0 / A # initial velocity\n",
    "vf = 0 * ureg.meter / ureg.sec # final fluid velocity\n",
    "dv = vf - v0 # change in fluid velocity\n",
    "dH = - a / g * dv # change in total head of fluid\n",
    "dH.to(ureg.meter)"
   ]
  },
  {
   "cell_type": "markdown",
   "metadata": {},
   "source": [
    "Or in terms of change in pressure, recall: $p = \\rho g H$"
   ]
  },
  {
   "cell_type": "code",
   "execution_count": 33,
   "metadata": {
    "collapsed": false
   },
   "outputs": [
    {
     "data": {
      "text/html": [
       "2366.9930652 kilopascal"
      ],
      "text/latex": [
       "$2366.9930652 kilopascal$"
      ],
      "text/plain": [
       "<Quantity(2366.9930652, 'kilopascal')>"
      ]
     },
     "execution_count": 33,
     "metadata": {},
     "output_type": "execute_result"
    }
   ],
   "source": [
    "dp = rho * g * dH\n",
    "dp.to(ureg.kilopascal)"
   ]
  },
  {
   "cell_type": "code",
   "execution_count": 34,
   "metadata": {
    "collapsed": false
   },
   "outputs": [
    {
     "data": {
      "text/html": [
       "343.303319399 psi"
      ],
      "text/latex": [
       "$343.303319399 psi$"
      ],
      "text/plain": [
       "<Quantity(343.303319399, 'psi')>"
      ]
     },
     "execution_count": 34,
     "metadata": {},
     "output_type": "execute_result"
    }
   ],
   "source": [
    "dp.to(ureg.psi)"
   ]
  },
  {
   "cell_type": "markdown",
   "metadata": {},
   "source": [
    "The pressure rises because of the reduction in flow velocity (concervation of energy).  If the velocity were to increase, this would create a drop in pressure.  Again, this is the change in fluid pressure, not that total pressure."
   ]
  }
 ],
 "metadata": {
  "kernelspec": {
   "display_name": "Python 2",
   "language": "python",
   "name": "python2"
  },
  "language_info": {
   "codemirror_mode": {
    "name": "ipython",
    "version": 2
   },
   "file_extension": ".py",
   "mimetype": "text/x-python",
   "name": "python",
   "nbconvert_exporter": "python",
   "pygments_lexer": "ipython2",
   "version": "2.7.9"
  }
 },
 "nbformat": 4,
 "nbformat_minor": 0
}
