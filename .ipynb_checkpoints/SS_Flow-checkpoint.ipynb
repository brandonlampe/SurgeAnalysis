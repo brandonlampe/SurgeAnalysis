{
 "cells": [
  {
   "cell_type": "code",
   "execution_count": 1,
   "metadata": {
    "collapsed": true
   },
   "outputs": [],
   "source": [
    "import numpy as np\n",
    "from pint import UnitRegistry\n",
    "import math\n",
    "ureg = UnitRegistry()\n",
    "np.set_printoptions(precision=4)\n",
    "import sys\n",
    "sys.path.append('/Users/Lampe/PyScripts/surgeAnalysis')\n",
    "# import SurgeFunc as sf"
   ]
  },
  {
   "cell_type": "markdown",
   "metadata": {},
   "source": [
    "## Function for the Evaluation of the Darcy-Weisbach Friction Factor"
   ]
  },
  {
   "cell_type": "code",
   "execution_count": 2,
   "metadata": {
    "collapsed": false
   },
   "outputs": [],
   "source": [
    "class FrictionFact():\n",
    "    \n",
    "    def __init__(self, flowRate, dynVisc, spGrav, ID, roughness, units = 0):\n",
    "        \"\"\"\n",
    "            General class for calculating the Darcy-Weisbach Friction Factor.\n",
    "            \n",
    "            All calculations will be performed in consisten SI units.  \n",
    "            Therefore, if units are input in US terms (units=0), they will be converted to SI for calculation.\n",
    "            \n",
    "            Units for Input (must maintain a constant system of units):\n",
    "            \n",
    "                      |   DESCRIPTION      | US     | SI   |\n",
    "            units     |system of units     | =0     | !=0  |\n",
    "            ------------------------------------------------\n",
    "            flowRate  |volumetric flow rate|gal/min |m3/hr |\n",
    "            dynVisc   |dynamic viscosity   |cP      |Pa-s  |\n",
    "            spGrav    |specific gravity    |none    |none  |\n",
    "            ID        |internal diameter   |inch    |m     |\n",
    "            roughness |pipe roughness      |inch    |m     |\n",
    "            length    |length of flow      |feet    |m     |\n",
    "\n",
    "        \"\"\"\n",
    "        self.Q = flowRate\n",
    "        self.mu = dynVisc\n",
    "        self.sg = spGrav\n",
    "        self.ID = ID\n",
    "        self.roughness = roughness\n",
    "        self.units = units\n",
    "        \n",
    "        \n",
    "    def CheckUnits(self):\n",
    "        \"\"\"\n",
    "        Calculations will all be performed in SI units; therefore, this method converts from US to SI units\n",
    "        \"\"\"\n",
    "        self.rho = self.sg * 1000 #kg/m3\n",
    "        if self.units == 0:\n",
    "            #convert from US to SI units\n",
    "            self.Q = self.Q *3.7853/1000. / 60. # m3/sec\n",
    "            self.ID = self.ID * 2.54 / 100. # m\n",
    "            area = np.pi * self.ID **2 / 4.# m2\n",
    "            self.v = self.Q / area # m/sec\n",
    "            self.mu = self.mu * 10**-3 # Pa-s\n",
    "            self.roughness = self.roughness * 2.54 / 100. # m\n",
    "            textOut = \"Input Was US Units\"\n",
    "        else:\n",
    "            #convert to consistent SI units\n",
    "            self.Q = self.Q / 3600. # m3/sec\n",
    "            area = np.pi * self.ID **2 / 4.# m2\n",
    "            self.v = self.Q / area # m/sec\n",
    "            textOut = \"Input Was SI Units\"\n",
    "        return self\n",
    "    \n",
    "    def Re(self):\n",
    "        \"\"\"\n",
    "        Calculates Reynolds Number\n",
    "         - this method may be called to check the Reynolds Number\n",
    "        \"\"\"\n",
    "        self.Re = self.rho * self.v * self.ID / self.mu\n",
    "        return self\n",
    "        \n",
    "    def FricFact(self):\n",
    "        \"\"\"\n",
    "        Function to obtain the Darcy-Weisbach friction factor:\n",
    "            Laminar Flow (Re <= 2000) -> Poiseuille's relationship\n",
    "            Turbulent Flow (Re > 2000) -> evaluate the colebrrok-white equation \n",
    "\n",
    "        Input:\n",
    "        -------------------------------------------------\n",
    "        Re (required): reynolds number (dimensionless)\n",
    "        d  (required): hydraulic diameter (length)\n",
    "        epsilon (required): conduit roughness (length)\n",
    "\n",
    "        Output:\n",
    "        -------------------------------------------------\n",
    "        f: darcy-weisbach friction factor (dimensionless)\n",
    "        \"\"\"\n",
    "        if self.Re <= 2000.:\n",
    "            f = self.Re / 64.\n",
    "        else:\n",
    "            sqrt_f = 10.0 # initial guess\n",
    "            loop_max = 20 # max. number of loops\n",
    "            inc = 1 # increment count\n",
    "            res = 10.0 # initial value\n",
    "\n",
    "            while res > 10**-8 and inc < loop_max:\n",
    "                LHS = -2.0 * np.log10(self.roughness / (3.7 * self.ID) + 2.51 / (self.Re * sqrt_f))\n",
    "                res = (LHS - 1./sqrt_f)**2 #squared error\n",
    "                sqrt_f = 1./LHS\n",
    "                inc = inc + 1\n",
    "            f = sqrt_f**2\n",
    "\n",
    "            if inc == loop_max:\n",
    "                outText = \"Friction Factor Did NOT Converge! Printed Value Should ~= 1.0\"\n",
    "                print(outText)\n",
    "                print(-2.0 * np.log10(self.roughness / (3.7 * self.ID) + 2.51 / (self.Re * f**0.5)) * f**0.5)\n",
    "                \n",
    "        self.f = f\n",
    "        return self\n",
    "    \n",
    "    def Calc(self):\n",
    "        \"\"\"\n",
    "        This method must be called to obtain any need parameters\n",
    "        \"\"\"\n",
    "        self.CheckUnits()\n",
    "        self.Re()\n",
    "        self.FricFact()\n",
    "        return self"
   ]
  },
  {
   "cell_type": "code",
   "execution_count": 12,
   "metadata": {
    "collapsed": false
   },
   "outputs": [],
   "source": [
    "class SS_DeltaH():\n",
    "    \n",
    "    def __init__(self, flowRate, dynVisc, spGrav, ID, roughness, length, units = 0):\n",
    "        \"\"\"\n",
    "            General class for calculating the Darcy-Weisbach Friction Factor.\n",
    "            \n",
    "            All calculations will be performed in consisten SI units.  \n",
    "            Therefore, if units are input in US terms (units=0), they will be converted to SI for calculation.\n",
    "            \n",
    "            Units for Input (must maintain a constant system of units):\n",
    "            \n",
    "                      |   DESCRIPTION      | US     | SI   |\n",
    "            units     |system of units     | =0     | !=0  |\n",
    "            ------------------------------------------------\n",
    "            flowRate  |volumetric flow rate|gal/min |m3/hr |\n",
    "            dynVisc   |dynamic viscosity   |cP      |Pa-s  |\n",
    "            spGrav    |specific gravity    |none    |none  |\n",
    "            ID        |internal diameter   |inch    |m     |\n",
    "            roughness |pipe roughness      |inch    |m     |\n",
    "            length    |length of flow      |feet    |m     |\n",
    "\n",
    "        \"\"\"\n",
    "        self.Q = flowRate\n",
    "        self.mu = dynVisc\n",
    "        self.sg = spGrav\n",
    "        self.ID = ID\n",
    "        self.roughness = roughness\n",
    "        self.L = length\n",
    "        self.units = units\n",
    "        \n",
    "        \n",
    "    def CheckUnits(self):\n",
    "        \"\"\"\n",
    "        Calculations will all be performed in SI units; therefore, this method converts from US to SI units\n",
    "        \"\"\"\n",
    "        self.rho = self.sg * 1000 #kg/m3\n",
    "        if self.units == 0:\n",
    "            #convert from US to SI units\n",
    "            self.Q = self.Q *3.7853/1000. / 60. # m3/sec\n",
    "            self.ID = self.ID * 2.54 / 100. # m\n",
    "            self.area = np.pi * self.ID **2 / 4.# m2\n",
    "            self.v = self.Q / self.area # m/sec\n",
    "            self.mu = self.mu * 10**-3 # Pa-s\n",
    "            self.roughness = self.roughness * 2.54 / 100. # m\n",
    "            textOut = \"Input Was US Units\"\n",
    "        else:\n",
    "            #convert to consistent SI units\n",
    "            self.Q = self.Q / 3600. # m3/sec\n",
    "            self.area = np.pi * self.ID **2 / 4.# m2\n",
    "            self.v = self.Q / self.area # m/sec\n",
    "            textOut = \"Input Was SI Units\"\n",
    "        return self\n",
    "    \n",
    "    def Re(self):\n",
    "        \"\"\"\n",
    "        Calculates Reynolds Number\n",
    "         - this method may be called to check the Reynolds Number\n",
    "        \"\"\"\n",
    "        self.Re = self.rho * self.v * self.ID / self.mu\n",
    "        return self\n",
    "        \n",
    "    def FricFact(self):\n",
    "        \"\"\"\n",
    "        Function to obtain the Darcy-Weisbach friction factor:\n",
    "            Laminar Flow (Re <= 2000) -> Poiseuille's relationship\n",
    "            Turbulent Flow (Re > 2000) -> evaluate the colebrrok-white equation \n",
    "\n",
    "        Input:\n",
    "        -------------------------------------------------\n",
    "        Re (required): reynolds number (dimensionless)\n",
    "        d  (required): hydraulic diameter (length)\n",
    "        epsilon (required): conduit roughness (length)\n",
    "\n",
    "        Output:\n",
    "        -------------------------------------------------\n",
    "        f: darcy-weisbach friction factor (dimensionless)\n",
    "        \"\"\"\n",
    "        if self.Re <= 2000.:\n",
    "            f = self.Re / 64.\n",
    "        else:\n",
    "            sqrt_f = 10.0 # initial guess\n",
    "            loop_max = 20 # max. number of loops\n",
    "            inc = 1 # increment count\n",
    "            res = 10.0 # initial value\n",
    "\n",
    "            while res > 10**-8 and inc < loop_max:\n",
    "                LHS = -2.0 * np.log10(self.roughness / (3.7 * self.ID) + 2.51 / (self.Re * sqrt_f))\n",
    "                res = (LHS - 1./sqrt_f)**2 #squared error\n",
    "                sqrt_f = 1./LHS\n",
    "                inc = inc + 1\n",
    "            f = sqrt_f**2\n",
    "\n",
    "            if inc == loop_max:\n",
    "                outText = \"Friction Factor Did NOT Converge! Printed Value Should ~= 1.0\"\n",
    "                print(outText)\n",
    "                print(-2.0 * np.log10(self.roughness / (3.7 * self.ID) + 2.51 / (self.Re * f**0.5)) * f**0.5)\n",
    "                \n",
    "        self.f = f\n",
    "        return self\n",
    "    \n",
    "    def HeadLoss(self):\n",
    "        \"\"\"\n",
    "        Calculates the change in piezometric head for steady-state flow\n",
    "        accounts for head loss resulting from:\n",
    "            -friction\n",
    "            -change in elevation\n",
    "        \"\"\"\n",
    "        g = 9.806 #m/s2\n",
    "        dh_m = -self.f * (self.Q /3600.)**2 * self.L / (2 * self.ID * self.area**2*g) - self.L\n",
    "        dp_Pa = self.rho * g * dh_m\n",
    "        \n",
    "        if self.units == 0:\n",
    "            \"\"\"\n",
    "            Calculate head loss: feet\n",
    "            Calculate pressure loss: psi\n",
    "            \"\"\"\n",
    "            self.dh = dh_m / 0.3048 # feet\n",
    "            self.dp = dp_Pa * 1.4504 * 10**-4 # psi\n",
    "        else:\n",
    "            \"\"\"\n",
    "            Calculate head loss: meter\n",
    "            Calculate pressure loss: MPa\n",
    "            \"\"\"\n",
    "            self.dh = dh_m\n",
    "            self.dp = dp_Pa / 10**6\n",
    "                    \n",
    "    def Calc(self):\n",
    "        \"\"\"\n",
    "        This method must be called to obtain any need parameters\n",
    "        \"\"\"\n",
    "        self.CheckUnits()\n",
    "        self.Re()\n",
    "        self.FricFact()\n",
    "        self.HeadLoss()\n",
    "        return self"
   ]
  },
  {
   "cell_type": "code",
   "execution_count": 20,
   "metadata": {
    "collapsed": false
   },
   "outputs": [],
   "source": [
    "q = 0.15707963267948968*3600# m3/hr\n",
    "q = q * 7.48052 / (.3048**3  *60) # gpm\n",
    "\n",
    "mu = 8.90 * 10**-4 # Pa-s, N-s/m2\n",
    "mu = mu * 10 **3 # cP\n",
    "\n",
    "sg = 1.2 #rho = 1200 # kg/m3\n",
    "\n",
    "d = 0.2 # m\n",
    "d = d* 12./.3048 # inch\n",
    "\n",
    "rough = 0.005 # roughness\n",
    "rough = rough * 12./.3048 # inch\n",
    "\n",
    "L = 1000. # conduit lenth (m)\n",
    "L = L / .3048 # feet\n",
    "\n",
    "# friction = FrictionFact(q, mu, sg, d, rough, L, units=0)\n",
    "\n",
    "# g = 9.81 #m/s2   \n",
    "# h_f = fric_fact*(l/d)*(v**2/2*g)\n",
    "# dp = rho * g * h_f"
   ]
  },
  {
   "cell_type": "code",
   "execution_count": 25,
   "metadata": {
    "collapsed": false
   },
   "outputs": [
    {
     "name": "stdout",
     "output_type": "stream",
     "text": [
      "0.0530781543884\n",
      "12056162080.9\n"
     ]
    }
   ],
   "source": [
    "f = FrictionFact(q, mu, sg, d, rough, units=0).Calc().f\n",
    "Re = FrictionFact(q, mu, sg, d, rough, units=0).Calc().Re\n",
    "\n",
    "print(f)\n",
    "print(Re)"
   ]
  },
  {
   "cell_type": "markdown",
   "metadata": {},
   "source": [
    "# Calculate Steady-State Pressure Distribution"
   ]
  },
  {
   "cell_type": "code",
   "execution_count": 26,
   "metadata": {
    "collapsed": false
   },
   "outputs": [
    {
     "name": "stdout",
     "output_type": "stream",
     "text": [
      "0.0531035435355\n",
      "1348314.60674\n",
      "-1000.00002612\n",
      "-11.7672003073\n"
     ]
    }
   ],
   "source": [
    "z =  np.linspace(0, 1000, 101) # m\n",
    "q = 0.15707963267948968*3600# m3/hr\n",
    "# q = q * 7.48052 / (.3048**3  *60) # gpm\n",
    "\n",
    "mu = 8.90 * 10**-4 # Pa-s, N-s/m2\n",
    "# mu = mu * 10 **3 # cP\n",
    "\n",
    "sg = 1.2 #rho = 1200 # kg/m3\n",
    "\n",
    "d = 0.2 # m\n",
    "# d = d* 12./.3048 # inch\n",
    "\n",
    "rough = 0.005 # roughness\n",
    "# rough = rough * 12./.3048 # inch\n",
    "\n",
    "L = 1000. # conduit lenth (m)\n",
    "# L = L / .3048 # feet\n",
    "\n",
    "f = SS_DeltaH(q, mu, sg, d, rough, L, units=1).Calc().f\n",
    "Re = SS_DeltaH(q, mu, sg, d, rough, L, units=1).Calc().Re\n",
    "dh = SS_DeltaH(q, mu, sg, d, rough, L, units=1).Calc().dh\n",
    "dp = SS_DeltaH(q, mu, sg, d, rough, L, units=1).Calc().dp\n",
    "print(f)\n",
    "print(Re)\n",
    "print(dh)\n",
    "print(dp)"
   ]
  },
  {
   "cell_type": "code",
   "execution_count": 40,
   "metadata": {
    "collapsed": false
   },
   "outputs": [],
   "source": [
    "z = np.linspace(0., 1000, 101)\n",
    "h = np.zeros(len(z)) # head (m)\n",
    "p = np.zeros(len(z)) # pressure (Pa)\n",
    "dp = np.zeros(len(z)) # pressure (Pa)\n",
    "\n",
    "p0 = 20 # MPa\n",
    "dp = SS_DeltaH(q, mu, sg, d, rough, z, units=1).Calc().dp\n",
    "p = p0 + dp"
   ]
  },
  {
   "cell_type": "code",
   "execution_count": 41,
   "metadata": {
    "collapsed": true
   },
   "outputs": [],
   "source": [
    "%matplotlib inline\n",
    "import matplotlib.pyplot as plt"
   ]
  },
  {
   "cell_type": "code",
   "execution_count": 46,
   "metadata": {
    "collapsed": false
   },
   "outputs": [
    {
     "data": {
      "image/png": "[encoded data removed]",
      "text/plain": [
       "<matplotlib.figure.Figure at 0x1098bb390>"
      ]
     },
     "metadata": {},
     "output_type": "display_data"
    }
   ],
   "source": [
    "plt.plot(p,z)\n",
    "plt.xlabel('$Pressure (MPa)$')\n",
    "plt.ylabel('$Elevation Above Datum (m)$')\n",
    "plt.grid()"
   ]
  }
 ],
 "metadata": {
  "kernelspec": {
   "display_name": "Python 2",
   "language": "python",
   "name": "python2"
  },
  "language_info": {
   "codemirror_mode": {
    "name": "ipython",
    "version": 2
   },
   "file_extension": ".py",
   "mimetype": "text/x-python",
   "name": "python",
   "nbconvert_exporter": "python",
   "pygments_lexer": "ipython2",
   "version": "2.7.11"
  }
 },
 "nbformat": 4,
 "nbformat_minor": 0
}
