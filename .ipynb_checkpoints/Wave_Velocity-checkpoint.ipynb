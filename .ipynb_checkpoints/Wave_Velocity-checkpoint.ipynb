{
 "cells": [
  {
   "cell_type": "markdown",
   "metadata": {},
   "source": [
    "# Basic Waterhammer Equations\n",
    " This notebook contains basic expressions for the velocity of pressure waves in a conduit and for the change in pressure cuased by an instantaneous change in the flow velocity"
   ]
  },
  {
   "cell_type": "markdown",
   "metadata": {},
   "source": [
    "## Example - Pressure Wave Velocity in Fluid\n",
    "compute:\n",
    "    1. velocity of pressure waves\n",
    "    2. Rise in pressure for a steady flow\n",
    "    \n",
    "assumptions:\n",
    " - conduit conveying fluid is perfectly rigid\n",
    " - flow is instantaneously stopped downstream"
   ]
  },
  {
   "cell_type": "code",
   "execution_count": 1,
   "metadata": {
    "collapsed": true
   },
   "outputs": [],
   "source": [
    "import numpy as np\n",
    "from pint import UnitRegistry\n",
    "import math\n",
    "ureg = UnitRegistry()\n",
    "np.set_printoptions(precision=4)"
   ]
  },
  {
   "cell_type": "markdown",
   "metadata": {},
   "source": [
    "Define the basic parameters of the problem"
   ]
  },
  {
   "cell_type": "code",
   "execution_count": 2,
   "metadata": {
    "collapsed": true
   },
   "outputs": [],
   "source": [
    "ID = 0.5 * ureg.meter # meter\n",
    "rho = 900 * ureg.kilogram / ureg.m**3# kg/m3\n",
    "K = 1.5 * ureg.gigapascal # GPa -> bulk modulus of fluid\n",
    "q0 = 0.4 * ureg.meter**3 / ureg.sec # flow rate\n",
    "g = 9.81 * ureg.meter / ureg.sec**2 # gravitational acceleration"
   ]
  },
  {
   "cell_type": "markdown",
   "metadata": {},
   "source": [
    "The pressure wave velocity $(a)$ in a fluid is given by:\n",
    "$$a = \\sqrt{\\frac{K}{\\rho}}$$"
   ]
  },
  {
   "cell_type": "code",
   "execution_count": 3,
   "metadata": {
    "collapsed": false
   },
   "outputs": [
    {
     "data": {
      "text/html": [
       "1290.99444874 meter/second"
      ],
      "text/latex": [
       "$1290.99444874 \\frac{meter}{second}$"
      ],
      "text/plain": [
       "<Quantity(1290.99444874, 'meter / second')>"
      ]
     },
     "execution_count": 3,
     "metadata": {},
     "output_type": "execute_result"
    }
   ],
   "source": [
    "a = (K/rho)**0.5; a.to(ureg.meter / ureg.sec)"
   ]
  },
  {
   "cell_type": "markdown",
   "metadata": {},
   "source": [
    "This result shows the velocity of the pressure wave (celerity). \n",
    "\n",
    "The change in pressure head is given by:\n",
    "$$\\Delta H = -\\frac{a}{g}\\Delta V$$\n",
    "\n",
    "Change in velocity $(\\Delta V)$ is the final velocity of fluid $(v_f)$ minus the intitial fluid velocity $(v_0)$.  Because the valve is assumed to close instantly, $v_f = 0$."
   ]
  },
  {
   "cell_type": "code",
   "execution_count": 4,
   "metadata": {
    "collapsed": false
   },
   "outputs": [
    {
     "data": {
      "text/html": [
       "268.092996398 meter"
      ],
      "text/latex": [
       "$268.092996398 meter$"
      ],
      "text/plain": [
       "<Quantity(268.092996398, 'meter')>"
      ]
     },
     "execution_count": 4,
     "metadata": {},
     "output_type": "execute_result"
    }
   ],
   "source": [
    "A = np.pi / 4. * ID**2 # x-sect area of conduit\n",
    "v0 = q0 / A # initial velocity\n",
    "vf = 0 * ureg.meter / ureg.sec # final fluid velocity\n",
    "dv = vf - v0 # change in fluid velocity\n",
    "dH = - a / g * dv # change in total head of fluid\n",
    "dH.to(ureg.meter)"
   ]
  },
  {
   "cell_type": "markdown",
   "metadata": {},
   "source": [
    "Or in terms of change in pressure, recall: $p = \\rho g H$"
   ]
  },
  {
   "cell_type": "code",
   "execution_count": 5,
   "metadata": {
    "collapsed": false
   },
   "outputs": [
    {
     "data": {
      "text/html": [
       "2366.9930652 kilopascal"
      ],
      "text/latex": [
       "$2366.9930652 kilopascal$"
      ],
      "text/plain": [
       "<Quantity(2366.9930652, 'kilopascal')>"
      ]
     },
     "execution_count": 5,
     "metadata": {},
     "output_type": "execute_result"
    }
   ],
   "source": [
    "dp = rho * g * dH\n",
    "dp.to(ureg.kilopascal)"
   ]
  },
  {
   "cell_type": "code",
   "execution_count": 6,
   "metadata": {
    "collapsed": false
   },
   "outputs": [
    {
     "data": {
      "text/html": [
       "343.303319399 psi"
      ],
      "text/latex": [
       "$343.303319399 psi$"
      ],
      "text/plain": [
       "<Quantity(343.303319399, 'psi')>"
      ]
     },
     "execution_count": 6,
     "metadata": {},
     "output_type": "execute_result"
    }
   ],
   "source": [
    "dp.to(ureg.psi)"
   ]
  },
  {
   "cell_type": "markdown",
   "metadata": {},
   "source": [
    "The pressure rises because of the reduction in flow velocity (concervation of energy).  If the velocity were to increase, this would create a drop in pressure.  Again, this is the change in fluid pressure, not that total pressure."
   ]
  },
  {
   "cell_type": "markdown",
   "metadata": {},
   "source": [
    "# Example - Wave Velocity in Fluid Filled Conduit\n",
    "A general expression for the wave velocity in a conduit was given by Halliwell [1963] as:\n",
    "\n",
    "$$a = \\sqrt{\\frac{K}{\\rho\\left[1+(K/E)\\psi\\right]}}$$\n",
    "where;\n",
    "* $\\psi$: a dimensionless parameter that depends on teh elastic properties of the conduit\n",
    "* $E$: Young's Modulus of elastcitiy of the conduit walls\n",
    "* $K$: Bulk modulus of fluid\n",
    "* $\\rho$: mass density of fluid\n",
    "\n",
    "For thin walled pipe, e.g., wall thickness $(e)$ of less than one tewentieth.  The assumption of thin walled pipe may be used if the following inequality is satisfied:\n",
    "$$\\frac{D}{2e}>\\beta$$\n",
    "where;\n",
    " * $D$: the pipe diameter\n",
    " * $\\beta$: varies, but is typically around $10$\n",
    " * $e$: the wall thickness\n",
    " \n",
    "For pipe anchored against longitudinal movement throughout its length:\n",
    "$$\\psi = \\frac{D}{e}(1-\\nu^2)$$\n",
    "\n",
    "For pipe anchored against longitudinal movement at the upper end:\n",
    "$$\\psi = \\frac{D}{e}(1-0.5 \\nu)$$"
   ]
  },
  {
   "cell_type": "code",
   "execution_count": 19,
   "metadata": {
    "collapsed": false
   },
   "outputs": [
    {
     "data": {
      "text/plain": [
       "176.57894736842107"
      ]
     },
     "execution_count": 19,
     "metadata": {},
     "output_type": "execute_result"
    }
   ],
   "source": [
    "D = 6.71  #m\n",
    "e = 0.019 #m \n",
    "D/(2*e)"
   ]
  },
  {
   "cell_type": "code",
   "execution_count": 23,
   "metadata": {
    "collapsed": false
   },
   "outputs": [
    {
     "name": "stdout",
     "output_type": "stream",
     "text": [
      "718.335708043\n"
     ]
    }
   ],
   "source": [
    "K = 2.27*10**9 #Pa for seawater\n",
    "rho = 1025 # kg/m3\n",
    "E = 207*10**9 #pa\n",
    "nu = 0.3\n",
    "\n",
    "psi = D/e*(1-0.5 * nu)\n",
    "a = (K/(rho*(1+(K/E)*psi)))**0.5 # m/s\n",
    "print(a)"
   ]
  },
  {
   "cell_type": "markdown",
   "metadata": {},
   "source": [
    "The wave speed velocity of fluid in a steel conduit"
   ]
  },
  {
   "cell_type": "code",
   "execution_count": null,
   "metadata": {
    "collapsed": true
   },
   "outputs": [],
   "source": []
  }
 ],
 "metadata": {
  "kernelspec": {
   "display_name": "Python 2",
   "language": "python",
   "name": "python2"
  },
  "language_info": {
   "codemirror_mode": {
    "name": "ipython",
    "version": 2
   },
   "file_extension": ".py",
   "mimetype": "text/x-python",
   "name": "python",
   "nbconvert_exporter": "python",
   "pygments_lexer": "ipython2",
   "version": "2.7.11"
  }
 },
 "nbformat": 4,
 "nbformat_minor": 0
}
