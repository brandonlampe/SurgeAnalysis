{
 "cells": [
  {
   "cell_type": "markdown",
   "metadata": {},
   "source": [
    "Derivation of equations to determine the unknown volume and mass of gas in minimeter"
   ]
  },
  {
   "cell_type": "markdown",
   "metadata": {},
   "source": [
    "### Load Sympy Modules"
   ]
  },
  {
   "cell_type": "code",
   "execution_count": 1,
   "metadata": {
    "collapsed": false
   },
   "outputs": [],
   "source": [
    "from sympy import *\n",
    "from sympy.matrices import *\n",
    "import sympy.mpmath\n",
    "from sympy.utilities.lambdify import lambdify\n",
    "init_printing()\n",
    "\n",
    "import numpy as np00\n",
    "import scipy.linalg as LA\n",
    "\n",
    "%matplotlib inline\n",
    "import matplotlib.pyplot as plt"
   ]
  },
  {
   "cell_type": "code",
   "execution_count": 2,
   "metadata": {
    "collapsed": false
   },
   "outputs": [],
   "source": [
    "pr0, prf, vr, pm0, pmf, vm, r, t0, tf, z0, zf, m= symbols('P^0_res P^1_res V_res P^0_mm P^1_mm V_mm R T^0 T^1 Z^0 Z^1 m')"
   ]
  },
  {
   "cell_type": "code",
   "execution_count": 3,
   "metadata": {
    "collapsed": false
   },
   "outputs": [
    {
     "data": {
      "image/png": "[encoded data removed]",
      "text/latex": [
       "$$m - \\frac{P^{0}_{mm} V_{mm} + P^{0}_{res} V_{res}}{R T^{0} Z^{0}}$$"
      ],
      "text/plain": [
       "    P_mm__0⋅V_mm + P_res__0⋅V_res\n",
       "m - ─────────────────────────────\n",
       "               R⋅T⁰⋅Z⁰           "
      ]
     },
     "execution_count": 3,
     "metadata": {},
     "output_type": "execute_result"
    }
   ],
   "source": [
    "eq1 = m - (pr0*vr + pm0*vm)/(r*t0*z0); eq1"
   ]
  },
  {
   "cell_type": "code",
   "execution_count": 4,
   "metadata": {
    "collapsed": false
   },
   "outputs": [
    {
     "data": {
      "image/png": "[encoded data removed]",
      "text/latex": [
       "$$m - \\frac{P^{1}_{mm} V_{mm} + P^{1}_{res} V_{res}}{R T^{1} Z^{1}}$$"
      ],
      "text/plain": [
       "    P_mm__1⋅V_mm + P_res__1⋅V_res\n",
       "m - ─────────────────────────────\n",
       "               R⋅T¹⋅Z¹           "
      ]
     },
     "execution_count": 4,
     "metadata": {},
     "output_type": "execute_result"
    }
   ],
   "source": [
    "eq2 = m - (prf*vr + pmf*vm)/(r*tf*zf); eq2"
   ]
  },
  {
   "cell_type": "code",
   "execution_count": 10,
   "metadata": {
    "collapsed": false
   },
   "outputs": [
    {
     "data": {
      "image/png": "[encoded data removed]",
      "text/latex": [
       "$$\\left \\{ V_{mm} : \\frac{V_{res} \\left(- P^{0}_{res} T^{1} Z^{1} + P^{1}_{res} T^{0} Z^{0}\\right)}{P^{0}_{mm} T^{1} Z^{1} - P^{1}_{mm} T^{0} Z^{0}}, \\quad m : \\frac{V_{res} \\left(P^{0}_{mm} P^{1}_{res} - P^{0}_{res} P^{1}_{mm}\\right)}{R \\left(P^{0}_{mm} T^{1} Z^{1} - P^{1}_{mm} T^{0} Z^{0}\\right)}\\right \\}$$"
      ],
      "text/plain": [
       "⎧      V_res⋅(-P_res__0⋅T¹⋅Z¹ + P_res__1⋅T⁰⋅Z⁰)     V_res⋅(P_mm__0⋅P_res__1 - \n",
       "⎨V_mm: ────────────────────────────────────────, m: ──────────────────────────\n",
       "⎩           P_mm__0⋅T¹⋅Z¹ - P_mm__1⋅T⁰⋅Z⁰                R⋅(P_mm__0⋅T¹⋅Z¹ - P_\n",
       "\n",
       "P_res__0⋅P_mm__1)⎫\n",
       "─────────────────⎬\n",
       "mm__1⋅T⁰⋅Z⁰)     ⎭"
      ]
     },
     "execution_count": 10,
     "metadata": {},
     "output_type": "execute_result"
    }
   ],
   "source": [
    "sol = solve([eq1,eq2],(vm, m)); sol"
   ]
  }
 ],
 "metadata": {
  "kernelspec": {
   "display_name": "Python 2",
   "language": "python",
   "name": "python2"
  },
  "language_info": {
   "codemirror_mode": {
    "name": "ipython",
    "version": 2
   },
   "file_extension": ".py",
   "mimetype": "text/x-python",
   "name": "python",
   "nbconvert_exporter": "python",
   "pygments_lexer": "ipython2",
   "version": "2.7.11"
  }
 },
 "nbformat": 4,
 "nbformat_minor": 0
}
