{
 "cells": [
  {
   "cell_type": "markdown",
   "metadata": {},
   "source": [
    "# Darcy-Weisbach Equation\n",
    "The Darcy-Weisbach equation relates the head or pressure loss, resulting from friction along a length of conduit, to the average velocity of an incompressible fluid flow.  This equation is typically not suitable for gas flow.\n",
    "\n",
    "## Head Loss Form\n",
    "$$h_f = f_D \\cdot \\frac{L}{D_h} \\cdot \\frac{V^2}{2g}$$\n",
    "where;\n",
    "\n",
    "* $h_f$ is the head loss due to friction (SI units: m); Note: This is also proportional to the piezometric head along the pipe;\n",
    "* $L$ is the length of the pipe (m);\n",
    "* $D_h$ is the hydraulic diameter of the pipe (for a pipe of circular section, this equals the internal diameter of the pipe) (m);\n",
    "* $V$ is the average flow velocity, experimentally measured as the volumetric flow rate per unit cross-sectional wetted area (m/s);\n",
    "* $g$ is the local acceleration due to gravity $(m/s^2)$;\n",
    "* $f_D$ is a dimensionless parameter called the Darcy friction factor, resistance coefficient, or simply friction factor.[3]\n",
    "\n",
    "The Darcy friction factor $(f_D)$ can be found from a Moody diagram or it can be calculated (see below).\n",
    "\n",
    "## Pressure Loss Form\n",
    "$$\\Delta p = \\rho \\cdot g \\cdot h_f$$\n",
    "where the pressure loss due to friction $Δp$ (Pa) is a function of:\n",
    "\n",
    "* the ratio of the length to diameter of the pipe, $L / D$;\n",
    "* the density of the fluid, $ρ$ (kg/m3);\n",
    "* the mean flow velocity, $V$ (m/s), as defined above;\n",
    "* Darcy Friction Factor, $f_D$, as defined above;"
   ]
  },
  {
   "cell_type": "markdown",
   "metadata": {},
   "source": [
    "# Calculation of Friction Factor $(f_D)$\n",
    "\n",
    "Calculation method for the friction factor depends on the flow regime as defined by the Reynolds number $(R_e)$\n",
    "\n",
    "\\begin{align}\n",
    "    \\mathrm{Re} &= \\frac{\\rho}{\\mu} V D = \\frac{VD}{\\nu} \\\\\n",
    "    \\nu &= \\frac{\\mu}{\\rho}\n",
    "\\end{align}\n",
    "\n",
    "where;\n",
    "* $\\mu$ is the dynamic viscosity, implies a linear relationshipe between distance from fluid velocity at the wall $(u)$ and distance from the wall $(y)$: $\\mu = \\frac{\\partial u}{\\partial y}$.  Dynamic viscosity has units of pascal-seconds (Pa-s) or centipoise (cP).\n",
    "* $\\nu$ is the kinematic viscosity, which has units of $m^2/s$ or stokes \n",
    "\n",
    "## Flow Regimes\n",
    "\n",
    "For this analysis, I will segregate the flow regimes as follows:\n",
    "\n",
    "* $R_e < 2,000 \\implies$ Laminar regime\n",
    "* $2,000 < R_e \\implies$ Turbulent regime\n",
    "\n",
    "Note: for $2,000 < R_e < 3,000 $ is typically referred to as a Critical regime, which is not defined  with this approach.\n",
    "\n",
    "## Formulas\n",
    "\n",
    "### Laminar Flow\n",
    "Equation for flow in the laminar regime (as defined above) as defined by Poiseuille's law for laminar flow is:\n",
    "$$f_D = \\frac{64}{R_e}$$\n",
    "\n",
    "### Turbulent Flow\n",
    "Equation for flow in the turbulent regime (as defined above) as defined by the Coleboork-White equation is:\n",
    "$$\\frac{1}{\\sqrt{f_D}} = -2.00 \\log_{10}\\left(\\frac{\\epsilon}{3.7D_h} + \\frac{2.51}{\\mathrm{Re}\\sqrt{f_D}}\\right)$$\n",
    "\n",
    "### Discontinuity\n",
    "The resulting sets of equations result in a discontinuity at the laminar-turbulent flow transition.  To implement a continuous function, a modification will need to be made."
   ]
  },
  {
   "cell_type": "markdown",
   "metadata": {},
   "source": [
    "# Calculations"
   ]
  },
  {
   "cell_type": "markdown",
   "metadata": {},
   "source": [
    "load and defined needed packages"
   ]
  },
  {
   "cell_type": "code",
   "execution_count": 1,
   "metadata": {
    "collapsed": true
   },
   "outputs": [],
   "source": [
    "import numpy as np\n",
    "from pint import UnitRegistry\n",
    "import math\n",
    "ureg = UnitRegistry()\n",
    "np.set_printoptions(precision=4)"
   ]
  },
  {
   "cell_type": "markdown",
   "metadata": {},
   "source": [
    "## Check Units"
   ]
  },
  {
   "cell_type": "markdown",
   "metadata": {},
   "source": [
    "calculation of Reynolds number"
   ]
  },
  {
   "cell_type": "code",
   "execution_count": 2,
   "metadata": {
    "collapsed": false
   },
   "outputs": [
    {
     "name": "stdout",
     "output_type": "stream",
     "text": [
      "dimensionless\n",
      "898876.404494\n"
     ]
    }
   ],
   "source": [
    "rho = 1000 * ureg.kilogram / ureg.meter**3# kg/m3\n",
    "v = 4.0 *ureg.meter / ureg.sec# m/sec\n",
    "mu = 8.90 * 10**-4 * ureg.pascal * ureg.sec# Pa-s, N-s/m2\n",
    "d = 0.2 * ureg.meter\n",
    "\n",
    "Re = rho * v * d / mu\n",
    "print(Re.dimensionality) # check dimension\n",
    "print(Re.magnitude)"
   ]
  },
  {
   "cell_type": "markdown",
   "metadata": {},
   "source": [
    "## Function for the Evaluation of the Darcy-Weisbach Friction Factor"
   ]
  },
  {
   "cell_type": "code",
   "execution_count": 3,
   "metadata": {
    "collapsed": false
   },
   "outputs": [],
   "source": [
    "def f_cw(Re, d, epsilon):\n",
    "    \"\"\"\n",
    "    Function to obtain the Darcy-Weisbach friction factor:\n",
    "        Laminar Flow (Re <= 2000) -> Poiseuille's relationship\n",
    "        Turbulent Flow (Re > 2000) -> evaluate the colebrrok-white equation \n",
    "\n",
    "    Input:\n",
    "    -------------------------------------------------\n",
    "    Re (required): reynolds number (dimensionless)\n",
    "    d  (required): hydraulic diameter (length)\n",
    "    epsilon (required): conduit roughness (length)\n",
    "    \n",
    "    Output:\n",
    "    -------------------------------------------------\n",
    "    f: darcy-weisbach friction factor (dimensionless)\n",
    "    \"\"\"\n",
    "\n",
    "\n",
    "    if Re <= 2000.:\n",
    "        f = Re / 64.\n",
    "    else:\n",
    "        sqrt_f = 10.0\n",
    "        loop_max = 20\n",
    "        inc = 1\n",
    "        res = 10.0\n",
    "\n",
    "        while res > 10**-8 and inc < loop_max:\n",
    "            LHS = -2.0 * np.log10(epsilon / (3.7 * d) + 2.51 / (Re * sqrt_f))\n",
    "            res = (LHS - 1./sqrt_f)**2 #squared error\n",
    "            sqrt_f = 1./LHS\n",
    "            inc = inc + 1\n",
    "        f = sqrt_f**2\n",
    "\n",
    "        if inc == loop_max:\n",
    "            outText = \"Friction Factor Did NOT Converge! Printed Value Should ~= 1.0\"\n",
    "            print(outText)\n",
    "            print(-2.0 * np.log10(epsilon / (3.7 * d) + 2.51 / (Re * f**0.5)) * f**0.5)\n",
    "    f_out = f\n",
    "    return f_out"
   ]
  },
  {
   "cell_type": "markdown",
   "metadata": {},
   "source": [
    "## Example"
   ]
  },
  {
   "cell_type": "markdown",
   "metadata": {},
   "source": [
    "Calculate the head loss from friction over a range of flow rates"
   ]
  },
  {
   "cell_type": "code",
   "execution_count": 4,
   "metadata": {
    "collapsed": false
   },
   "outputs": [],
   "source": [
    "rho = 1200 # kg/m3\n",
    "v = np.linspace(0., 0.1, 100) # m/sec\n",
    "mu = 8.90 * 10**-4 # Pa-s, N-s/m2\n",
    "d = 0.2 # m\n",
    "epsilon = 0.005 # roughness\n",
    "l = 1000. # conduit lenth (m)\n",
    "g = 9.81 #m/s2\n",
    "\n",
    "fric_fact = np.zeros(len(v))\n",
    "\n",
    "for i in xrange(len(v)):\n",
    "    Re = rho * v[i] * d / mu\n",
    "    fric_fact[i]= f_cw(Re, d, epsilon)\n",
    "    \n",
    "h_f = fric_fact*(l/d)*(v**2/2*g)\n",
    "dp = rho * g * h_f"
   ]
  },
  {
   "cell_type": "code",
   "execution_count": 5,
   "metadata": {
    "collapsed": true
   },
   "outputs": [],
   "source": [
    "%matplotlib inline\n",
    "import matplotlib.pyplot as plt"
   ]
  },
  {
   "cell_type": "markdown",
   "metadata": {},
   "source": [
    "## Results in Discontinuity at Laminar-Turbulent Transition (Re=2000)"
   ]
  },
  {
   "cell_type": "code",
   "execution_count": 6,
   "metadata": {
    "collapsed": false
   },
   "outputs": [
    {
     "data": {
      "image/png": "[encoded data removed]",
      "text/plain": [
       "<matplotlib.figure.Figure at 0x1031aba50>"
      ]
     },
     "metadata": {},
     "output_type": "display_data"
    }
   ],
   "source": [
    "plt.plot(v,fric_fact,'o-')\n",
    "plt.xlabel('velocity (m/sec)')\n",
    "plt.ylabel('Friction Factor')\n",
    "plt.grid()"
   ]
  },
  {
   "cell_type": "markdown",
   "metadata": {},
   "source": [
    "Because this function is discontinuous at the transition between laminar and turbulent flow, an approximation to this will be made that includes a smooth transition.  This will allow for stable numerical implementation."
   ]
  },
  {
   "cell_type": "markdown",
   "metadata": {
    "collapsed": true
   },
   "source": [
    "### General Purpose Friction Calculator"
   ]
  },
  {
   "cell_type": "markdown",
   "metadata": {},
   "source": [
    "Using python JIT compiler (compiles into C)"
   ]
  },
  {
   "cell_type": "code",
   "execution_count": 7,
   "metadata": {
    "collapsed": true
   },
   "outputs": [],
   "source": [
    "q0 = 0.2*3600 # SS flow rate (m3/hr)\n",
    "mu = 1.60 * 10**-3 # Dynamic viscosity (Pa-s, N-s/m2)\n",
    "sg = 1.0 # specific gravity\n",
    "rough = 0.9 # roughness (mm)\n",
    "d = 273.1 # mm\n",
    "SI = 1. # units are in SI"
   ]
  },
  {
   "cell_type": "code",
   "execution_count": 8,
   "metadata": {
    "collapsed": true
   },
   "outputs": [],
   "source": [
    "from numba import jit"
   ]
  },
  {
   "cell_type": "code",
   "execution_count": 9,
   "metadata": {
    "collapsed": true
   },
   "outputs": [],
   "source": [
    "@jit\n",
    "def CheckUnits(flowRate, dynVisc, spGrav, ID, roughness, units = 0):\n",
    "    \"\"\"\n",
    "    Calculations will all be performed in SI units; therefore, this method converts all units to consistent SI units \n",
    "    \n",
    "    All calculations will be performed in consistent SI units.  \n",
    "        Therefore, if units are input in US terms (units=0), they will be converted to SI for calculation.\n",
    "\n",
    "        Units for Input (must maintain a constant system of units):\n",
    "\n",
    "        INPUT:\n",
    "                  |   DESCRIPTION      | US     | SI   |\n",
    "        units     |system of units     | =0     | !=0  |\n",
    "        ------------------------------------------------\n",
    "        flowRate  |volumetric flow rate|gal/min |m3/hr |\n",
    "        dynVisc   |dynamic viscosity   |cP      |Pa-s  |\n",
    "        spGrav    |specific gravity    |none    |none  |\n",
    "        ID        |internal diameter   |inch    |m     |\n",
    "        roughness |pipe roughness      |inch    |m     |\n",
    "        \n",
    "        OUTPUT:          \n",
    "        units     | SI   |symbol\n",
    "        ------------------------------------------------\n",
    "        density   |kg/m3 |rho\n",
    "        flowRate  |m3/sec|Q\n",
    "        ID        |m     |ID\n",
    "        area      |m2    |area\n",
    "        velocity  |m/sec |v\n",
    "        dynVisc   |Pa-s  |mu\n",
    "        roughness |m     |roughness\n",
    "    \"\"\"\n",
    "    rho = spGrav * 1000 #kg/m3\n",
    "    if units == 0:\n",
    "        #convert from US to SI units\n",
    "        Q = flowRate *3.7853/1000. / 60. # m3/sec\n",
    "        ID = ID * 2.54 / 100. # m\n",
    "        area = np.pi * ID **2 / 4.# m2\n",
    "        v = Q / area # m/sec\n",
    "        mu = dynVisc * 10**-3 # Pa-s\n",
    "        roughness = roughness * 2.54 / 100. # m\n",
    "    else:\n",
    "        #convert to consistent SI units\n",
    "        Q = flowRate / 3600. # m3/sec\n",
    "        ID = ID / 1000. # m\n",
    "        area = np.pi * ID **2 / 4.# m2\n",
    "        v = Q / area # m/sec\n",
    "        mu = dynVisc\n",
    "        roughness = roughness / 1000. #m\n",
    "    return rho, Q, ID, area, v, mu, roughness\n",
    "\n",
    "@jit\n",
    "def FrictionFact_jit(flowRate, dynVisc, spGrav, ID, roughness, units = 0):\n",
    "    \"\"\"\n",
    "        All calculations will be performed in consistent SI units.  \n",
    "        Therefore, if units are input in US terms (units=0), they will be converted to SI for calculation.\n",
    "\n",
    "        Units for Input (must maintain a constant system of units):\n",
    "\n",
    "                  |   DESCRIPTION      | SI   |\n",
    "        units     |system of units     | !=0  |\n",
    "        ------------------------------------------------\n",
    "        flowRate  |volumetric flow rate|m3/sec|\n",
    "        dynVisc   |dynamic viscosity   |Pa-s  |\n",
    "        spGrav    |specific gravity    |none  |\n",
    "        ID        |internal diameter   |m     |\n",
    "        roughness |pipe roughness      |m     |\n",
    "\n",
    "        Output:\n",
    "        -------------------------------------------------\n",
    "        f: darcy-weisbach friction factor (dimensionless)\n",
    "    \"\"\"\n",
    "    rho = spGrav * 1000. # kg/m3\n",
    "    area = np.pi * ID **2 / 4.# m2\n",
    "    v = flowRate/area # velocity (m/sec)\n",
    "    Re = rho * v * ID / mu #reynolds number\n",
    "    Re_lim = 2000. #transition point between laminara and turbulent flow\n",
    "    f_lim = Re_lim / 64. #maximum friction factor value occurs at Re_lim/64\n",
    "    trans = 0.75 #transition range (region of smooth transition)\n",
    "    Re_trans = Re_lim*(1+trans) # the transitional zone\n",
    "    n = 1.0 #shape factor for lower side of transition (Re < 2000)\n",
    "    slope = 10. #shape factor for upper side of transition (Re > 2000)\n",
    "    \n",
    "    if Re <= Re_lim: #laminar flow\n",
    "        f = f_lim * np.sin((np.pi / 2. * (Re / Re_lim))**n)\n",
    "    elif Re > Re_lim and Re <= Re_trans: #transitional flow\n",
    "        # transition between laminar and turbulent flow\n",
    "        sqrt_f_trans = 10.0 # initial guess\n",
    "        loop_max = 20 # max. number of loops\n",
    "        inc = 1 # increment count\n",
    "        res = 10.0 # initial value\n",
    "        while res > 10**-8 and inc < loop_max:\n",
    "            LHS = -2.0 * np.log10(roughness / (3.7 * ID) + 2.51 / (Re_trans * sqrt_f_trans))\n",
    "            res = (LHS - 1./sqrt_f_trans)**2 #squared error\n",
    "            sqrt_f_trans = 1./LHS\n",
    "            inc = inc + 1\n",
    "        f_trans = sqrt_f_trans**2\n",
    "        Re_star = (Re - Re_lim) / Re_lim\n",
    "        f = f_trans + (f_lim - f_trans)*(1. + slope * Re_star) * np.exp(-slope * Re_star)                        \n",
    "    else: # fully turbulent flow\n",
    "        sqrt_f = 10.0 # initial guess\n",
    "        loop_max = 20 # max. number of loops\n",
    "        inc = 1 # increment count\n",
    "        res = 10.0 # initial value\n",
    "        while res > 10**-8 and inc < loop_max:\n",
    "            LHS = -2.0 * np.log10(roughness / (3.7 * ID) + 2.51 / (Re * sqrt_f))\n",
    "            res = (LHS - 1./sqrt_f)**2 #squared error\n",
    "            sqrt_f = 1./LHS\n",
    "            inc = inc + 1\n",
    "        f = sqrt_f**2\n",
    "    return f"
   ]
  },
  {
   "cell_type": "code",
   "execution_count": 10,
   "metadata": {
    "collapsed": false
   },
   "outputs": [],
   "source": [
    "# %timeit FrictionFact(flowRate=q0, dynVisc=mu, spGrav=sg, ID=d, roughness=rough, units = SI)\n",
    "## Check Data Types (avoid pyobjects)\n",
    "# FrictionFact_jit.inspect_types()"
   ]
  },
  {
   "cell_type": "code",
   "execution_count": 11,
   "metadata": {
    "collapsed": false
   },
   "outputs": [],
   "source": [
    "v_check = np.linspace(0,0.1,100) #m/sec\n",
    "area = np.pi *(d/1000.)**2 / 4. # m2\n",
    "q_check = v_check*area # m3/sec"
   ]
  },
  {
   "cell_type": "code",
   "execution_count": 12,
   "metadata": {
    "collapsed": false
   },
   "outputs": [],
   "source": [
    "f_check = np.zeros(len(q_check))\n",
    "for i in xrange(len(q_check)):\n",
    "    f_check[i] = FrictionFact_jit(q_check[i], mu, sg, d/1000., rough/1000., units=1)    "
   ]
  },
  {
   "cell_type": "markdown",
   "metadata": {},
   "source": [
    "## Function yields a smooth transition from turbulent to laminar flow"
   ]
  },
  {
   "cell_type": "code",
   "execution_count": 13,
   "metadata": {
    "collapsed": false
   },
   "outputs": [
    {
     "data": {
      "text/plain": [
       "<matplotlib.text.Text at 0x1086e6dd0>"
      ]
     },
     "execution_count": 13,
     "metadata": {},
     "output_type": "execute_result"
    },
    {
     "data": {
      "image/png": "[encoded data removed]",
      "text/plain": [
       "<matplotlib.figure.Figure at 0x10a67a350>"
      ]
     },
     "metadata": {},
     "output_type": "display_data"
    }
   ],
   "source": [
    "plt.plot(v_check,f_check,'o-')\n",
    "plt.grid()\n",
    "plt.xlabel('Velocity (m/sec)')\n",
    "plt.ylabel('Friction Factor')"
   ]
  },
  {
   "cell_type": "code",
   "execution_count": 14,
   "metadata": {
    "collapsed": false
   },
   "outputs": [
    {
     "data": {
      "text/plain": [
       "<matplotlib.text.Text at 0x10870ec50>"
      ]
     },
     "execution_count": 14,
     "metadata": {},
     "output_type": "execute_result"
    },
    {
     "data": {
      "image/png": "[encoded data removed]",
      "text/plain": [
       "<matplotlib.figure.Figure at 0x10a77b1d0>"
      ]
     },
     "metadata": {},
     "output_type": "display_data"
    }
   ],
   "source": [
    "plt.plot(q_check,f_check,'o-')\n",
    "plt.grid()\n",
    "plt.xlabel('fow rate (m3/sec)')\n",
    "plt.ylabel('Friction Factor')"
   ]
  }
 ],
 "metadata": {
  "kernelspec": {
   "display_name": "Python 2",
   "language": "python",
   "name": "python2"
  },
  "language_info": {
   "codemirror_mode": {
    "name": "ipython",
    "version": 2
   },
   "file_extension": ".py",
   "mimetype": "text/x-python",
   "name": "python",
   "nbconvert_exporter": "python",
   "pygments_lexer": "ipython2",
   "version": "2.7.11"
  }
 },
 "nbformat": 4,
 "nbformat_minor": 0
}
