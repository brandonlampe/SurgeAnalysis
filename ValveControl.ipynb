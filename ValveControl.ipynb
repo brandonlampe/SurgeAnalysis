{
 "cells": [
  {
   "cell_type": "code",
   "execution_count": 4,
   "metadata": {
    "collapsed": false
   },
   "outputs": [],
   "source": [
    "import numpy as np\n",
    "%matplotlib inline\n",
    "import matplotlib.pyplot as plt"
   ]
  },
  {
   "cell_type": "code",
   "execution_count": 11,
   "metadata": {
    "collapsed": true
   },
   "outputs": [],
   "source": [
    "y = np.array([ 1.    ,  0.998 ,  0.9928,  0.9845,  0.9734,  0.9599,\n",
    "              0.9441,\n",
    "        0.9263,  0.9068,  0.8859,  0.8638,  0.8406,  0.8166,  0.7921,\n",
    "        0.7671,  0.7419,  0.7167,  0.6917,  0.667 ,  0.6426,  0.6185,\n",
    "        0.5946,  0.5708,  0.5471,  0.5235,  0.5   ,  0.4765,  0.4529,\n",
    "        0.4292,  0.4054,  0.3815,  0.3574,  0.333 ,  0.3083,  0.2833,\n",
    "        0.2581,  0.2329,  0.2079,  0.1834,  0.1594,  0.1362,  0.1141,\n",
    "        0.0932,  0.0737,  0.0559,  0.0401,  0.0266,  0.0155,  0.0072,\n",
    "        0.002 ,  0.]) # fraction open over value closure time\n",
    "\n",
    "# y = np.array([1., .9, .7, .5, .3, .1, 0.]) # fraction open over value closure time\n",
    "Tc = 10."
   ]
  },
  {
   "cell_type": "code",
   "execution_count": 12,
   "metadata": {
    "collapsed": false
   },
   "outputs": [],
   "source": [
    "tc = np.linspace(0,Tc, len(y)) # characteristic times associated with 'y'\n",
    "t = np.linspace(0,20, 500)"
   ]
  },
  {
   "cell_type": "code",
   "execution_count": 13,
   "metadata": {
    "collapsed": true
   },
   "outputs": [],
   "source": [
    "tau = np.zeros(len(t))\n",
    "\n",
    "#interpolate valve \n",
    "for j in xrange(len(t)):\n",
    "    interp = t[j]\n",
    "    if interp >= Tc:\n",
    "        tau[j] = 0\n",
    "    else:\n",
    "        I = 0\n",
    "        while interp >= tc[I]:\n",
    "            I = I + 1\n",
    "        frac = (interp - tc[I-1]) / (tc[I] - tc[I-1])\n",
    "        tau[j] = y[I-1] + frac * (y[I] - y[I-1])"
   ]
  },
  {
   "cell_type": "code",
   "execution_count": 14,
   "metadata": {
    "collapsed": false
   },
   "outputs": [
    {
     "data": {
      "text/plain": [
       "[<matplotlib.lines.Line2D at 0x1086ac790>]"
      ]
     },
     "execution_count": 14,
     "metadata": {},
     "output_type": "execute_result"
    },
    {
     "data": {
      "image/png": "[encoded data removed]",
      "text/plain": [
       "<matplotlib.figure.Figure at 0x1085cb710>"
      ]
     },
     "metadata": {},
     "output_type": "display_data"
    }
   ],
   "source": [
    "plt.plot(t,tau)"
   ]
  },
  {
   "cell_type": "code",
   "execution_count": null,
   "metadata": {
    "collapsed": true
   },
   "outputs": [],
   "source": []
  }
 ],
 "metadata": {
  "kernelspec": {
   "display_name": "Python 2",
   "language": "python",
   "name": "python2"
  },
  "language_info": {
   "codemirror_mode": {
    "name": "ipython",
    "version": 2
   },
   "file_extension": ".py",
   "mimetype": "text/x-python",
   "name": "python",
   "nbconvert_exporter": "python",
   "pygments_lexer": "ipython2",
   "version": "2.7.11"
  }
 },
 "nbformat": 4,
 "nbformat_minor": 0
}
