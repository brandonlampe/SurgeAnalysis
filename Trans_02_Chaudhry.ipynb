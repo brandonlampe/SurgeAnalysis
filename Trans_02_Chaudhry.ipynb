{
 "cells": [
  {
   "cell_type": "markdown",
   "metadata": {},
   "source": [
    "# Analysis of Transients in a Pipeline Caused by Opening or Closing a Downstream Valve"
   ]
  },
  {
   "cell_type": "markdown",
   "metadata": {},
   "source": [
    "## Nomenclature\n",
    "a = wave speed (m/s)\n",
    "\n",
    "ar = pipe cross-sectional area (m2)\n",
    "\n",
    "d = pipe diameter (m)\n",
    "\n",
    "dt = compuatational time interval (s)\n",
    "\n",
    "dxt = time interval for storing tau vs time curve (s)\n",
    "\n",
    "f = darcy-weisbach friction factor\n",
    "\n",
    "h = piezometric headt at begining of time interval (m)\n",
    "\n",
    "hmax = maximium piezometric head (m)\n",
    "\n",
    "hmin = minimum pizometric head (m)\n",
    "\n",
    "hp = pizometric headt at end of time interval (m)\n",
    "\n",
    "hres = reservoir level relative to datum\n",
    "\n",
    "hs = valve head loss for flow of qs (m)\n",
    "\n",
    "iprint = number of time intervals after to be printed\n",
    "\n",
    "l = pepe length (m)\n",
    "\n",
    "m = number of points on tau vs time curve\n",
    "\n",
    "n = number of reaches into which pipe is sub-divided\n",
    "\n",
    "pn = number of pipes\n",
    "\n",
    "nrlp = number of reaches on last pipe\n",
    "\n",
    "q = discharge at beginning of time interval (m3/s)\n",
    "\n",
    "qo = steady-state discharge (m3/s)\n",
    "\n",
    "qp = discharge at end of tiem inteval (m3/s)\n",
    "\n",
    "qs = valve discharge (m3/s)\n",
    "\n",
    "t = time (s)\n",
    "\n",
    "tau = relative valve opening\n",
    "\n",
    "tauo = initial valve opening\n",
    "\n",
    "tlast = time up to which conditions are computed (s)\n",
    "\n",
    "tv = valve opening or closint time (s)\n",
    "\n",
    "y = stored tau values"
   ]
  },
  {
   "cell_type": "code",
   "execution_count": 1,
   "metadata": {
    "collapsed": false
   },
   "outputs": [],
   "source": [
    "import numpy as np\n",
    "import matplotlib.pyplot as plt"
   ]
  },
  {
   "cell_type": "markdown",
   "metadata": {},
   "source": [
    "### General Data"
   ]
  },
  {
   "cell_type": "code",
   "execution_count": 2,
   "metadata": {
    "collapsed": false
   },
   "outputs": [],
   "source": [
    "pn = int(2)\n",
    "nrlp = 2.\n",
    "iprint = 2.\n",
    "g = 9.81 #gravitational acceleration\n",
    "qo = 1.0\n",
    "hres= 67.7\n",
    "tlast= 10.0"
   ]
  },
  {
   "cell_type": "markdown",
   "metadata": {
    "collapsed": true
   },
   "source": [
    "### Data for Valve"
   ]
  },
  {
   "cell_type": "code",
   "execution_count": 3,
   "metadata": {
    "collapsed": false
   },
   "outputs": [],
   "source": [
    "tv = 6.0\n",
    "dxt = 1.0\n",
    "tauo = 1.0\n",
    "tauf = 0.0\n",
    "qs = 1.\n",
    "hs = 60.05\n",
    "m = 7\n",
    "y = np.zeros(m);\n",
    "y[:] = [1., .9, .7, .5, .3, .1, 0.]"
   ]
  },
  {
   "cell_type": "markdown",
   "metadata": {},
   "source": [
    "### Data for Pipes"
   ]
  },
  {
   "cell_type": "code",
   "execution_count": 4,
   "metadata": {
    "collapsed": true
   },
   "outputs": [],
   "source": [
    "l = np.array([550., 450])\n",
    "d = np.array([0.75, 0.6])\n",
    "a = np.array([1100., 900])\n",
    "f = np.array([0.01, 0.012])"
   ]
  },
  {
   "cell_type": "markdown",
   "metadata": {},
   "source": [
    "### Calculation of Pipe Constants"
   ]
  },
  {
   "cell_type": "code",
   "execution_count": 10,
   "metadata": {
    "collapsed": false
   },
   "outputs": [
    {
     "name": "stdout",
     "output_type": "stream",
     "text": [
      "0.25\n",
      "0\n",
      "1100.0\n",
      "2.0\n",
      "1\n",
      "900.0\n",
      "2.0\n"
     ]
    }
   ],
   "source": [
    "dt = l[-1] / (nrlp * a[-1])\n",
    "ar = np.zeros(pn)\n",
    "n = np.zeros(pn) # number of reaches each pipe segment is subdivided into\n",
    "ca = np.zeros(pn)\n",
    "cf = np.zeros(pn)\n",
    "\n",
    "for i in xrange(pn):\n",
    "    ar[i] = 0.7854*d[i]**2\n",
    "    aunadj = a[i]\n",
    "    an = l[i] / (dt*a[i])\n",
    "    n[i] = an\n",
    "    ani = n[i]\n",
    "    \n",
    "    # check if wave speeds need to be adjusted\n",
    "    if (an-ani) >= 0.5:\n",
    "        n[i] = n[i] + 1.\n",
    "        a[i] = l[i] / (dt * n[i])\n",
    "        \n",
    "    ca[i] = g*ar[i] / a[i]\n",
    "    cf[i] = f[i] * dt / (2.0 * d[i] * ar[i])\n",
    "    f[i] = f[i] * l[i] / (2.0 * g* d[i]*n[i]*ar[i]**2)"
   ]
  },
  {
   "cell_type": "code",
   "execution_count": 9,
   "metadata": {
    "collapsed": false
   },
   "outputs": [
    {
     "data": {
      "text/plain": [
       "0.25"
      ]
     },
     "execution_count": 9,
     "metadata": {},
     "output_type": "execute_result"
    }
   ],
   "source": [
    "dt"
   ]
  },
  {
   "cell_type": "markdown",
   "metadata": {},
   "source": [
    "### Calculate Steady State Conditions"
   ]
  },
  {
   "cell_type": "code",
   "execution_count": 23,
   "metadata": {
    "collapsed": false
   },
   "outputs": [
    {
     "name": "stdout",
     "output_type": "stream",
     "text": [
      "0\n",
      "1\n",
      "2\n",
      "0\n",
      "1\n",
      "2\n",
      "[1]\n"
     ]
    }
   ],
   "source": [
    "h = np.zeros((10, 100))\n",
    "hmax = np.zeros((10, 10))\n",
    "hmin = np.zeros((10, 10))\n",
    "q = np.zeros((pn, 100))\n",
    "h[0,0] = hres\n",
    "\n",
    "for i in xrange(pn):\n",
    "    nn = int(n[i] + 1)\n",
    "    for j in xrange(nn):\n",
    "        h[i,j] = h[i,0] - j*f[i]*qo**2\n",
    "        q[i,j] = qo\n",
    "    h[i+1, 0] = h[i, nn]\n",
    "\n",
    "nn = int(n[pn-1] + 1)\n",
    "if qo != 0.0:\n",
    "    hs = h[pn-1, nn] # sets value == 0\n",
    "\n",
    "for i in xrange(pn):\n",
    "    nn = int(n[i] + 1)\n",
    "    for j in xrange(nn):\n",
    "        hmax[i,j] = h[i,j]\n",
    "        hmin[i,j] = h[i,j]\n",
    "        print(j)\n",
    "\n",
    "np1 = pn -1\n",
    "t = 0.0\n",
    "tau = tauo\n",
    "\n",
    "k = 0\n",
    "i = 0\n",
    "\n",
    "idx = range(pn)[1:]\n",
    "print(idx)\n",
    "nn = n[i] + 1\n",
    "if pn >= 1:\n",
    "    for i in idx:\n",
    "        nn = int(n[i] + 1)"
   ]
  },
  {
   "cell_type": "code",
   "execution_count": 25,
   "metadata": {
    "collapsed": false
   },
   "outputs": [
    {
     "data": {
      "text/plain": [
       "array([[  6.77000000e+01,  -8.40518624e+05,  -1.68110495e+06,\n",
       "          0.00000000e+00,   0.00000000e+00,   0.00000000e+00,\n",
       "          0.00000000e+00,   0.00000000e+00,   0.00000000e+00,\n",
       "          0.00000000e+00],\n",
       "       [  0.00000000e+00,  -3.92069558e+07,  -7.84139116e+07,\n",
       "          0.00000000e+00,   0.00000000e+00,   0.00000000e+00,\n",
       "          0.00000000e+00,   0.00000000e+00,   0.00000000e+00,\n",
       "          0.00000000e+00],\n",
       "       [  0.00000000e+00,   0.00000000e+00,   0.00000000e+00,\n",
       "          0.00000000e+00,   0.00000000e+00,   0.00000000e+00,\n",
       "          0.00000000e+00,   0.00000000e+00,   0.00000000e+00,\n",
       "          0.00000000e+00],\n",
       "       [  0.00000000e+00,   0.00000000e+00,   0.00000000e+00,\n",
       "          0.00000000e+00,   0.00000000e+00,   0.00000000e+00,\n",
       "          0.00000000e+00,   0.00000000e+00,   0.00000000e+00,\n",
       "          0.00000000e+00],\n",
       "       [  0.00000000e+00,   0.00000000e+00,   0.00000000e+00,\n",
       "          0.00000000e+00,   0.00000000e+00,   0.00000000e+00,\n",
       "          0.00000000e+00,   0.00000000e+00,   0.00000000e+00,\n",
       "          0.00000000e+00],\n",
       "       [  0.00000000e+00,   0.00000000e+00,   0.00000000e+00,\n",
       "          0.00000000e+00,   0.00000000e+00,   0.00000000e+00,\n",
       "          0.00000000e+00,   0.00000000e+00,   0.00000000e+00,\n",
       "          0.00000000e+00],\n",
       "       [  0.00000000e+00,   0.00000000e+00,   0.00000000e+00,\n",
       "          0.00000000e+00,   0.00000000e+00,   0.00000000e+00,\n",
       "          0.00000000e+00,   0.00000000e+00,   0.00000000e+00,\n",
       "          0.00000000e+00],\n",
       "       [  0.00000000e+00,   0.00000000e+00,   0.00000000e+00,\n",
       "          0.00000000e+00,   0.00000000e+00,   0.00000000e+00,\n",
       "          0.00000000e+00,   0.00000000e+00,   0.00000000e+00,\n",
       "          0.00000000e+00],\n",
       "       [  0.00000000e+00,   0.00000000e+00,   0.00000000e+00,\n",
       "          0.00000000e+00,   0.00000000e+00,   0.00000000e+00,\n",
       "          0.00000000e+00,   0.00000000e+00,   0.00000000e+00,\n",
       "          0.00000000e+00],\n",
       "       [  0.00000000e+00,   0.00000000e+00,   0.00000000e+00,\n",
       "          0.00000000e+00,   0.00000000e+00,   0.00000000e+00,\n",
       "          0.00000000e+00,   0.00000000e+00,   0.00000000e+00,\n",
       "          0.00000000e+00]])"
      ]
     },
     "execution_count": 25,
     "metadata": {},
     "output_type": "execute_result"
    }
   ],
   "source": [
    "hmin"
   ]
  }
 ],
 "metadata": {
  "kernelspec": {
   "display_name": "Python 2",
   "language": "python",
   "name": "python2"
  },
  "language_info": {
   "codemirror_mode": {
    "name": "ipython",
    "version": 2
   },
   "file_extension": ".py",
   "mimetype": "text/x-python",
   "name": "python",
   "nbconvert_exporter": "python",
   "pygments_lexer": "ipython2",
   "version": "2.7.11"
  }
 },
 "nbformat": 4,
 "nbformat_minor": 0
}
